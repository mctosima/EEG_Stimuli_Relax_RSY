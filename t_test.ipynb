{
 "cells": [
  {
   "cell_type": "code",
   "execution_count": 3,
   "metadata": {},
   "outputs": [],
   "source": [
    "import numpy as np\n",
    "import pandas as pd\n",
    "from scipy import stats\n",
    "from utils import *"
   ]
  },
  {
   "attachments": {},
   "cell_type": "markdown",
   "metadata": {},
   "source": [
    "# Cara Dengan Function\n",
    "\n",
    "**Arguments:**\n",
    "- `csv_file`: path to csv file\n",
    "- `noise`: noise type -> 'white', 'pink', 'brown'\n",
    "- `task`: 'nap' or 'read'\n",
    "- `freq`: 'alpha', 'beta', 'delta', 'theta', 'gamma'\n",
    "- `feature`: 'sum_filtered', 'avg_filtered', 'rel_pow'\n",
    "- `savelog`: if True, will save the report to `ttest_log.csv`"
   ]
  },
  {
   "attachments": {},
   "cell_type": "markdown",
   "metadata": {},
   "source": [
    "# Cara Manual"
   ]
  },
  {
   "cell_type": "code",
   "execution_count": 6,
   "metadata": {},
   "outputs": [
    {
     "data": {
      "text/html": [
       "<div>\n",
       "<style scoped>\n",
       "    .dataframe tbody tr th:only-of-type {\n",
       "        vertical-align: middle;\n",
       "    }\n",
       "\n",
       "    .dataframe tbody tr th {\n",
       "        vertical-align: top;\n",
       "    }\n",
       "\n",
       "    .dataframe thead th {\n",
       "        text-align: right;\n",
       "    }\n",
       "</style>\n",
       "<table border=\"1\" class=\"dataframe\">\n",
       "  <thead>\n",
       "    <tr style=\"text-align: right;\">\n",
       "      <th></th>\n",
       "      <th>subject</th>\n",
       "      <th>noise_type</th>\n",
       "      <th>task</th>\n",
       "      <th>freq_type</th>\n",
       "      <th>sum_raw</th>\n",
       "      <th>avg_raw</th>\n",
       "      <th>sum_filtered</th>\n",
       "      <th>avg_filtered</th>\n",
       "      <th>rel_pow</th>\n",
       "    </tr>\n",
       "  </thead>\n",
       "  <tbody>\n",
       "    <tr>\n",
       "      <th>0</th>\n",
       "      <td>1</td>\n",
       "      <td>brown</td>\n",
       "      <td>nap</td>\n",
       "      <td>delta</td>\n",
       "      <td>361839889.2</td>\n",
       "      <td>1121.726764</td>\n",
       "      <td>2.108865e+08</td>\n",
       "      <td>653.761464</td>\n",
       "      <td>0.582817</td>\n",
       "    </tr>\n",
       "    <tr>\n",
       "      <th>1</th>\n",
       "      <td>1</td>\n",
       "      <td>brown</td>\n",
       "      <td>nap</td>\n",
       "      <td>theta</td>\n",
       "      <td>361839889.2</td>\n",
       "      <td>1121.726764</td>\n",
       "      <td>1.756508e+07</td>\n",
       "      <td>54.452869</td>\n",
       "      <td>0.048544</td>\n",
       "    </tr>\n",
       "    <tr>\n",
       "      <th>2</th>\n",
       "      <td>1</td>\n",
       "      <td>brown</td>\n",
       "      <td>nap</td>\n",
       "      <td>alpha</td>\n",
       "      <td>361839889.2</td>\n",
       "      <td>1121.726764</td>\n",
       "      <td>8.474708e+06</td>\n",
       "      <td>26.272135</td>\n",
       "      <td>0.023421</td>\n",
       "    </tr>\n",
       "    <tr>\n",
       "      <th>3</th>\n",
       "      <td>1</td>\n",
       "      <td>brown</td>\n",
       "      <td>nap</td>\n",
       "      <td>beta</td>\n",
       "      <td>361839889.2</td>\n",
       "      <td>1121.726764</td>\n",
       "      <td>1.281115e+07</td>\n",
       "      <td>39.715394</td>\n",
       "      <td>0.035406</td>\n",
       "    </tr>\n",
       "    <tr>\n",
       "      <th>4</th>\n",
       "      <td>1</td>\n",
       "      <td>brown</td>\n",
       "      <td>nap</td>\n",
       "      <td>gamma</td>\n",
       "      <td>361839889.2</td>\n",
       "      <td>1121.726764</td>\n",
       "      <td>4.691779e+06</td>\n",
       "      <td>14.544813</td>\n",
       "      <td>0.012966</td>\n",
       "    </tr>\n",
       "  </tbody>\n",
       "</table>\n",
       "</div>"
      ],
      "text/plain": [
       "   subject noise_type task freq_type      sum_raw      avg_raw  sum_filtered   \n",
       "0        1      brown  nap     delta  361839889.2  1121.726764  2.108865e+08  \\\n",
       "1        1      brown  nap     theta  361839889.2  1121.726764  1.756508e+07   \n",
       "2        1      brown  nap     alpha  361839889.2  1121.726764  8.474708e+06   \n",
       "3        1      brown  nap      beta  361839889.2  1121.726764  1.281115e+07   \n",
       "4        1      brown  nap     gamma  361839889.2  1121.726764  4.691779e+06   \n",
       "\n",
       "   avg_filtered   rel_pow  \n",
       "0    653.761464  0.582817  \n",
       "1     54.452869  0.048544  \n",
       "2     26.272135  0.023421  \n",
       "3     39.715394  0.035406  \n",
       "4     14.544813  0.012966  "
      ]
     },
     "execution_count": 6,
     "metadata": {},
     "output_type": "execute_result"
    }
   ],
   "source": [
    "csv_path = 'run_log.csv'\n",
    "df = pd.read_csv(csv_path)\n",
    "df.head()\n"
   ]
  },
  {
   "cell_type": "code",
   "execution_count": 7,
   "metadata": {},
   "outputs": [
    {
     "data": {
      "text/html": [
       "<div>\n",
       "<style scoped>\n",
       "    .dataframe tbody tr th:only-of-type {\n",
       "        vertical-align: middle;\n",
       "    }\n",
       "\n",
       "    .dataframe tbody tr th {\n",
       "        vertical-align: top;\n",
       "    }\n",
       "\n",
       "    .dataframe thead th {\n",
       "        text-align: right;\n",
       "    }\n",
       "</style>\n",
       "<table border=\"1\" class=\"dataframe\">\n",
       "  <thead>\n",
       "    <tr style=\"text-align: right;\">\n",
       "      <th></th>\n",
       "      <th>subject</th>\n",
       "      <th>noise_type</th>\n",
       "      <th>task</th>\n",
       "      <th>freq_type</th>\n",
       "      <th>sum_raw</th>\n",
       "      <th>avg_raw</th>\n",
       "      <th>sum_filtered</th>\n",
       "      <th>avg_filtered</th>\n",
       "      <th>rel_pow</th>\n",
       "    </tr>\n",
       "  </thead>\n",
       "  <tbody>\n",
       "    <tr>\n",
       "      <th>0</th>\n",
       "      <td>1</td>\n",
       "      <td>brown</td>\n",
       "      <td>nap</td>\n",
       "      <td>delta</td>\n",
       "      <td>3.618399e+08</td>\n",
       "      <td>1121.726764</td>\n",
       "      <td>2.108865e+08</td>\n",
       "      <td>653.761464</td>\n",
       "      <td>0.582817</td>\n",
       "    </tr>\n",
       "    <tr>\n",
       "      <th>40</th>\n",
       "      <td>2</td>\n",
       "      <td>brown</td>\n",
       "      <td>nap</td>\n",
       "      <td>delta</td>\n",
       "      <td>2.982628e+08</td>\n",
       "      <td>924.633875</td>\n",
       "      <td>1.270853e+08</td>\n",
       "      <td>393.972463</td>\n",
       "      <td>0.426085</td>\n",
       "    </tr>\n",
       "    <tr>\n",
       "      <th>80</th>\n",
       "      <td>3</td>\n",
       "      <td>brown</td>\n",
       "      <td>nap</td>\n",
       "      <td>delta</td>\n",
       "      <td>2.281220e+09</td>\n",
       "      <td>7071.926534</td>\n",
       "      <td>1.179090e+09</td>\n",
       "      <td>3655.253619</td>\n",
       "      <td>0.516868</td>\n",
       "    </tr>\n",
       "    <tr>\n",
       "      <th>120</th>\n",
       "      <td>4</td>\n",
       "      <td>brown</td>\n",
       "      <td>nap</td>\n",
       "      <td>delta</td>\n",
       "      <td>1.189713e+10</td>\n",
       "      <td>36881.850040</td>\n",
       "      <td>1.613400e+09</td>\n",
       "      <td>5001.642192</td>\n",
       "      <td>0.135613</td>\n",
       "    </tr>\n",
       "  </tbody>\n",
       "</table>\n",
       "</div>"
      ],
      "text/plain": [
       "     subject noise_type task freq_type       sum_raw       avg_raw   \n",
       "0          1      brown  nap     delta  3.618399e+08   1121.726764  \\\n",
       "40         2      brown  nap     delta  2.982628e+08    924.633875   \n",
       "80         3      brown  nap     delta  2.281220e+09   7071.926534   \n",
       "120        4      brown  nap     delta  1.189713e+10  36881.850040   \n",
       "\n",
       "     sum_filtered  avg_filtered   rel_pow  \n",
       "0    2.108865e+08    653.761464  0.582817  \n",
       "40   1.270853e+08    393.972463  0.426085  \n",
       "80   1.179090e+09   3655.253619  0.516868  \n",
       "120  1.613400e+09   5001.642192  0.135613  "
      ]
     },
     "execution_count": 7,
     "metadata": {},
     "output_type": "execute_result"
    }
   ],
   "source": [
    "# create new dataframe for `noise_type` == brown and `task` == nap and `freq_type` == delta\n",
    "df_brown = df[(df['noise_type'] == 'brown') & (df['task'] == 'nap') & (df['freq_type'] == 'delta')]\n",
    "df_brown.head()"
   ]
  },
  {
   "cell_type": "code",
   "execution_count": 30,
   "metadata": {},
   "outputs": [
    {
     "name": "stdout",
     "output_type": "stream",
     "text": [
      "     subject noise_type  task freq_type       sum_raw       avg_raw   \n",
      "30         1      white   nap     delta  1.816068e+08    562.992825  \\\n",
      "35         1      white  read     delta  4.689249e+08   1453.697264   \n",
      "70         2      white   nap     delta  4.074474e+08   1263.112863   \n",
      "75         2      white  read     delta  7.473852e+08   2316.941885   \n",
      "110        3      white   nap     delta  2.657852e+08    823.950951   \n",
      "115        3      white  read     delta  1.087459e+10  33711.916600   \n",
      "150        4      white   nap     delta  7.559024e+08   2343.345777   \n",
      "155        4      white  read     delta  5.705446e+09  17687.247970   \n",
      "\n",
      "     sum_filtered  avg_filtered   rel_pow  \n",
      "30   1.063711e+08    329.757194  0.585722  \n",
      "35   3.543676e+08   1098.562243  0.755702  \n",
      "70   1.532536e+08    475.095878  0.376131  \n",
      "75   3.399916e+08   1053.995637  0.454908  \n",
      "110  1.007243e+08    312.251796  0.378969  \n",
      "115  2.296303e+09   7118.686347  0.211162  \n",
      "150  5.506281e+08   1706.982323  0.728438  \n",
      "155  1.855257e+09   5751.414688  0.325173  \n"
     ]
    }
   ],
   "source": [
    "# create new dataframe for `noise_type` == white and `task` == nap and `freq_type` == delta\n",
    "df_white = df[(df['noise_type'] == 'white') & (df['freq_type'] == 'delta')]\n",
    "print(df_white)"
   ]
  },
  {
   "cell_type": "code",
   "execution_count": 9,
   "metadata": {},
   "outputs": [
    {
     "data": {
      "text/html": [
       "<div>\n",
       "<style scoped>\n",
       "    .dataframe tbody tr th:only-of-type {\n",
       "        vertical-align: middle;\n",
       "    }\n",
       "\n",
       "    .dataframe tbody tr th {\n",
       "        vertical-align: top;\n",
       "    }\n",
       "\n",
       "    .dataframe thead th {\n",
       "        text-align: right;\n",
       "    }\n",
       "</style>\n",
       "<table border=\"1\" class=\"dataframe\">\n",
       "  <thead>\n",
       "    <tr style=\"text-align: right;\">\n",
       "      <th></th>\n",
       "      <th>subject</th>\n",
       "      <th>noise_type</th>\n",
       "      <th>task</th>\n",
       "      <th>freq_type</th>\n",
       "      <th>sum_raw</th>\n",
       "      <th>avg_raw</th>\n",
       "      <th>sum_filtered</th>\n",
       "      <th>avg_filtered</th>\n",
       "      <th>rel_pow</th>\n",
       "    </tr>\n",
       "  </thead>\n",
       "  <tbody>\n",
       "    <tr>\n",
       "      <th>20</th>\n",
       "      <td>1</td>\n",
       "      <td>silent</td>\n",
       "      <td>nap</td>\n",
       "      <td>delta</td>\n",
       "      <td>1.965442e+08</td>\n",
       "      <td>703.033394</td>\n",
       "      <td>9.192998e+07</td>\n",
       "      <td>328.831047</td>\n",
       "      <td>0.467732</td>\n",
       "    </tr>\n",
       "    <tr>\n",
       "      <th>60</th>\n",
       "      <td>2</td>\n",
       "      <td>silent</td>\n",
       "      <td>nap</td>\n",
       "      <td>delta</td>\n",
       "      <td>2.818446e+08</td>\n",
       "      <td>873.736106</td>\n",
       "      <td>9.762928e+07</td>\n",
       "      <td>302.656998</td>\n",
       "      <td>0.346394</td>\n",
       "    </tr>\n",
       "    <tr>\n",
       "      <th>100</th>\n",
       "      <td>3</td>\n",
       "      <td>silent</td>\n",
       "      <td>nap</td>\n",
       "      <td>delta</td>\n",
       "      <td>3.165079e+09</td>\n",
       "      <td>9811.947414</td>\n",
       "      <td>1.567215e+09</td>\n",
       "      <td>4858.467720</td>\n",
       "      <td>0.495158</td>\n",
       "    </tr>\n",
       "    <tr>\n",
       "      <th>140</th>\n",
       "      <td>4</td>\n",
       "      <td>silent</td>\n",
       "      <td>nap</td>\n",
       "      <td>delta</td>\n",
       "      <td>8.855621e+08</td>\n",
       "      <td>2745.299052</td>\n",
       "      <td>5.703611e+08</td>\n",
       "      <td>1768.155816</td>\n",
       "      <td>0.644067</td>\n",
       "    </tr>\n",
       "  </tbody>\n",
       "</table>\n",
       "</div>"
      ],
      "text/plain": [
       "     subject noise_type task freq_type       sum_raw      avg_raw   \n",
       "20         1     silent  nap     delta  1.965442e+08   703.033394  \\\n",
       "60         2     silent  nap     delta  2.818446e+08   873.736106   \n",
       "100        3     silent  nap     delta  3.165079e+09  9811.947414   \n",
       "140        4     silent  nap     delta  8.855621e+08  2745.299052   \n",
       "\n",
       "     sum_filtered  avg_filtered   rel_pow  \n",
       "20   9.192998e+07    328.831047  0.467732  \n",
       "60   9.762928e+07    302.656998  0.346394  \n",
       "100  1.567215e+09   4858.467720  0.495158  \n",
       "140  5.703611e+08   1768.155816  0.644067  "
      ]
     },
     "execution_count": 9,
     "metadata": {},
     "output_type": "execute_result"
    }
   ],
   "source": [
    "# create new dataframe for `noise_type` == silent and `task` == nap and `freq_type` == delta\n",
    "df_silent = df[(df['noise_type'] == 'silent') & (df['task'] == 'nap') & (df['freq_type'] == 'delta')]\n",
    "df_silent.head()"
   ]
  },
  {
   "cell_type": "code",
   "execution_count": 10,
   "metadata": {},
   "outputs": [
    {
     "data": {
      "text/html": [
       "<div>\n",
       "<style scoped>\n",
       "    .dataframe tbody tr th:only-of-type {\n",
       "        vertical-align: middle;\n",
       "    }\n",
       "\n",
       "    .dataframe tbody tr th {\n",
       "        vertical-align: top;\n",
       "    }\n",
       "\n",
       "    .dataframe thead th {\n",
       "        text-align: right;\n",
       "    }\n",
       "</style>\n",
       "<table border=\"1\" class=\"dataframe\">\n",
       "  <thead>\n",
       "    <tr style=\"text-align: right;\">\n",
       "      <th></th>\n",
       "      <th>subject</th>\n",
       "      <th>noise_type</th>\n",
       "      <th>task</th>\n",
       "      <th>freq_type</th>\n",
       "      <th>sum_raw</th>\n",
       "      <th>avg_raw</th>\n",
       "      <th>sum_filtered</th>\n",
       "      <th>avg_filtered</th>\n",
       "      <th>rel_pow</th>\n",
       "    </tr>\n",
       "  </thead>\n",
       "  <tbody>\n",
       "    <tr>\n",
       "      <th>10</th>\n",
       "      <td>1</td>\n",
       "      <td>pink</td>\n",
       "      <td>nap</td>\n",
       "      <td>delta</td>\n",
       "      <td>2.058275e+08</td>\n",
       "      <td>638.078383</td>\n",
       "      <td>1.442238e+08</td>\n",
       "      <td>447.102913</td>\n",
       "      <td>0.700702</td>\n",
       "    </tr>\n",
       "    <tr>\n",
       "      <th>50</th>\n",
       "      <td>2</td>\n",
       "      <td>pink</td>\n",
       "      <td>nap</td>\n",
       "      <td>delta</td>\n",
       "      <td>3.274847e+08</td>\n",
       "      <td>1015.223464</td>\n",
       "      <td>1.413191e+08</td>\n",
       "      <td>438.098284</td>\n",
       "      <td>0.431529</td>\n",
       "    </tr>\n",
       "    <tr>\n",
       "      <th>90</th>\n",
       "      <td>3</td>\n",
       "      <td>pink</td>\n",
       "      <td>nap</td>\n",
       "      <td>delta</td>\n",
       "      <td>2.095984e+08</td>\n",
       "      <td>649.768342</td>\n",
       "      <td>7.492243e+07</td>\n",
       "      <td>232.264321</td>\n",
       "      <td>0.357457</td>\n",
       "    </tr>\n",
       "    <tr>\n",
       "      <th>130</th>\n",
       "      <td>4</td>\n",
       "      <td>pink</td>\n",
       "      <td>nap</td>\n",
       "      <td>delta</td>\n",
       "      <td>2.815603e+09</td>\n",
       "      <td>8728.548046</td>\n",
       "      <td>1.291419e+09</td>\n",
       "      <td>4003.482889</td>\n",
       "      <td>0.458665</td>\n",
       "    </tr>\n",
       "  </tbody>\n",
       "</table>\n",
       "</div>"
      ],
      "text/plain": [
       "     subject noise_type task freq_type       sum_raw      avg_raw   \n",
       "10         1       pink  nap     delta  2.058275e+08   638.078383  \\\n",
       "50         2       pink  nap     delta  3.274847e+08  1015.223464   \n",
       "90         3       pink  nap     delta  2.095984e+08   649.768342   \n",
       "130        4       pink  nap     delta  2.815603e+09  8728.548046   \n",
       "\n",
       "     sum_filtered  avg_filtered   rel_pow  \n",
       "10   1.442238e+08    447.102913  0.700702  \n",
       "50   1.413191e+08    438.098284  0.431529  \n",
       "90   7.492243e+07    232.264321  0.357457  \n",
       "130  1.291419e+09   4003.482889  0.458665  "
      ]
     },
     "execution_count": 10,
     "metadata": {},
     "output_type": "execute_result"
    }
   ],
   "source": [
    "# create new dataframe for `noise_type` == pink and `task` == nap and `freq_type` == delta\n",
    "df_pink = df[(df['noise_type'] == 'pink') & (df['task'] == 'nap') & (df['freq_type'] == 'delta')]\n",
    "df_pink.head()"
   ]
  },
  {
   "cell_type": "code",
   "execution_count": 11,
   "metadata": {},
   "outputs": [],
   "source": [
    "group1 = df_silent['rel_pow']\n",
    "group2 = df_brown['rel_pow']\n",
    "group3 = df_white['rel_pow']\n",
    "group4 = df_pink['rel_pow']"
   ]
  },
  {
   "cell_type": "code",
   "execution_count": 12,
   "metadata": {},
   "outputs": [
    {
     "name": "stdout",
     "output_type": "stream",
     "text": [
      "group1 mean:  0.48833772900000005\n",
      "group2 mean:  0.41534564375\n",
      "group3 mean:  0.517314956\n",
      "group4 mean:  0.48708840175\n"
     ]
    }
   ],
   "source": [
    "# print mean of group1 and group2\n",
    "print('group1 mean: ', group1.mean())\n",
    "print('group2 mean: ', group2.mean())\n",
    "print('group3 mean: ', group3.mean())\n",
    "print('group4 mean: ', group4.mean())"
   ]
  },
  {
   "cell_type": "code",
   "execution_count": 13,
   "metadata": {},
   "outputs": [
    {
     "name": "stdout",
     "output_type": "stream",
     "text": [
      "Levene Statistic: 0.450, p=0.527\n",
      "Levene Statistic: 1.218, p=0.312\n",
      "Levene Statistic: 0.027, p=0.876\n"
     ]
    }
   ],
   "source": [
    "stat, p = stats.levene(group1, group2)\n",
    "print('Levene Statistic: %.3f, p=%.3f' % (stat, p))\n",
    "\n",
    "stat, p = stats.levene(group1, group3)\n",
    "print('Levene Statistic: %.3f, p=%.3f' % (stat, p))\n",
    "\n",
    "stat, p = stats.levene(group1, group4)\n",
    "print('Levene Statistic: %.3f, p=%.3f' % (stat, p))"
   ]
  },
  {
   "cell_type": "code",
   "execution_count": 14,
   "metadata": {},
   "outputs": [
    {
     "name": "stdout",
     "output_type": "stream",
     "text": [
      "t=0.629, p=0.553\n",
      "t=-0.275, p=0.793\n",
      "t=0.013, p=0.990\n"
     ]
    }
   ],
   "source": [
    "t_stat, p = stats.ttest_ind(group1, group2, equal_var=True)\n",
    "print('t=%.3f, p=%.3f' % (t_stat, p))\n",
    "\n",
    "t_stat, p = stats.ttest_ind(group1, group3, equal_var=True)\n",
    "print('t=%.3f, p=%.3f' % (t_stat, p))\n",
    "\n",
    "t_stat, p = stats.ttest_ind(group1, group4, equal_var=True)\n",
    "print('t=%.3f, p=%.3f' % (t_stat, p))"
   ]
  },
  {
   "attachments": {},
   "cell_type": "markdown",
   "metadata": {},
   "source": [
    "---"
   ]
  },
  {
   "cell_type": "code",
   "execution_count": 15,
   "metadata": {},
   "outputs": [],
   "source": [
    "# create new dataframe for `noise_type` == brown and `task` == nap and `freq_type` == alpha\n",
    "df_brown = df[(df['noise_type'] == 'brown') & (df['task'] == 'nap') & (df['freq_type'] == 'alpha')]\n",
    "\n",
    "# create new dataframe for `noise_type` == white and `task` == nap and `freq_type` == alpha\n",
    "df_white = df[(df['noise_type'] == 'white') & (df['task'] == 'nap') & (df['freq_type'] == 'alpha')]\n",
    "\n",
    "# create new dataframe for `noise_type` == silent and `task` == nap and `freq_type` == alpha\n",
    "df_silent = df[(df['noise_type'] == 'silent') & (df['task'] == 'nap') & (df['freq_type'] == 'alpha')]\n",
    "\n",
    "# create new dataframe for `noise_type` == pink and `task` == nap and `freq_type` == alpha\n",
    "df_pink = df[(df['noise_type'] == 'pink') & (df['task'] == 'nap') & (df['freq_type'] == 'alpha')]"
   ]
  },
  {
   "cell_type": "code",
   "execution_count": 16,
   "metadata": {},
   "outputs": [],
   "source": [
    "group1 = df_silent['rel_pow']\n",
    "group2 = df_brown['rel_pow']\n",
    "group3 = df_white['rel_pow']\n",
    "group4 = df_pink['rel_pow']"
   ]
  },
  {
   "cell_type": "code",
   "execution_count": 17,
   "metadata": {},
   "outputs": [
    {
     "name": "stdout",
     "output_type": "stream",
     "text": [
      "Levene Statistic: 0.279, p=0.616\n",
      "Levene Statistic: 1.011, p=0.354\n",
      "Levene Statistic: 0.197, p=0.673\n"
     ]
    }
   ],
   "source": [
    "stat, p = stats.levene(group1, group2)\n",
    "print('Levene Statistic: %.3f, p=%.3f' % (stat, p))\n",
    "\n",
    "stat, p = stats.levene(group1, group3)\n",
    "print('Levene Statistic: %.3f, p=%.3f' % (stat, p))\n",
    "\n",
    "stat, p = stats.levene(group1, group4)\n",
    "print('Levene Statistic: %.3f, p=%.3f' % (stat, p))"
   ]
  },
  {
   "cell_type": "code",
   "execution_count": 18,
   "metadata": {},
   "outputs": [
    {
     "name": "stdout",
     "output_type": "stream",
     "text": [
      "t=0.831, p=0.438\n",
      "t=0.464, p=0.659\n",
      "t=-0.422, p=0.688\n"
     ]
    }
   ],
   "source": [
    "t_stat, p = stats.ttest_ind(group1, group2, equal_var=True)\n",
    "print('t=%.3f, p=%.3f' % (t_stat, p))\n",
    "\n",
    "t_stat, p = stats.ttest_ind(group1, group3, equal_var=True)\n",
    "print('t=%.3f, p=%.3f' % (t_stat, p))\n",
    "\n",
    "t_stat, p = stats.ttest_ind(group1, group4, equal_var=True)\n",
    "print('t=%.3f, p=%.3f' % (t_stat, p))"
   ]
  },
  {
   "cell_type": "code",
   "execution_count": 19,
   "metadata": {},
   "outputs": [],
   "source": [
    "# create new dataframe for `noise_type` == brown and `task` == read and `freq_type` == alpha\n",
    "df_brown = df[(df['noise_type'] == 'brown') & (df['task'] == 'read') & (df['freq_type'] == 'alpha')]\n",
    "\n",
    "# create new dataframe for `noise_type` == white and `task` == read and `freq_type` == alpha\n",
    "df_white = df[(df['noise_type'] == 'white') & (df['task'] == 'read') & (df['freq_type'] == 'alpha')]\n",
    "\n",
    "# create new dataframe for `noise_type` == silent and `task` == read and `freq_type` == alpha\n",
    "df_silent = df[(df['noise_type'] == 'silent') & (df['task'] == 'read') & (df['freq_type'] == 'alpha')]\n",
    "\n",
    "# create new dataframe for `noise_type` == pink and `task` == read and `freq_type` == alpha\n",
    "df_pink = df[(df['noise_type'] == 'pink') & (df['task'] == 'read') & (df['freq_type'] == 'alpha')]"
   ]
  },
  {
   "cell_type": "code",
   "execution_count": 20,
   "metadata": {},
   "outputs": [],
   "source": [
    "group1 = df_silent['rel_pow']\n",
    "group2 = df_brown['rel_pow']\n",
    "group3 = df_white['rel_pow']\n",
    "group4 = df_pink['rel_pow']"
   ]
  },
  {
   "cell_type": "code",
   "execution_count": 21,
   "metadata": {},
   "outputs": [
    {
     "name": "stdout",
     "output_type": "stream",
     "text": [
      "Levene Statistic: 0.134, p=0.727\n",
      "Levene Statistic: 0.307, p=0.599\n",
      "Levene Statistic: 0.274, p=0.619\n"
     ]
    }
   ],
   "source": [
    "stat, p = stats.levene(group1, group2)\n",
    "print('Levene Statistic: %.3f, p=%.3f' % (stat, p))\n",
    "\n",
    "stat, p = stats.levene(group1, group3)\n",
    "print('Levene Statistic: %.3f, p=%.3f' % (stat, p))\n",
    "\n",
    "stat, p = stats.levene(group1, group4)\n",
    "print('Levene Statistic: %.3f, p=%.3f' % (stat, p))"
   ]
  },
  {
   "cell_type": "code",
   "execution_count": 22,
   "metadata": {},
   "outputs": [
    {
     "name": "stdout",
     "output_type": "stream",
     "text": [
      "t=-0.758, p=0.477\n",
      "t=-0.058, p=0.955\n",
      "t=-0.408, p=0.697\n"
     ]
    }
   ],
   "source": [
    "stat, p = stats.ttest_ind(group1, group2, equal_var=True)\n",
    "print('t=%.3f, p=%.3f' % (stat, p))\n",
    "\n",
    "stat, p = stats.ttest_ind(group1, group3, equal_var=True)\n",
    "print('t=%.3f, p=%.3f' % (stat, p))\n",
    "\n",
    "stat, p = stats.ttest_ind(group1, group4, equal_var=True)\n",
    "print('t=%.3f, p=%.3f' % (stat, p))"
   ]
  },
  {
   "cell_type": "code",
   "execution_count": 23,
   "metadata": {},
   "outputs": [],
   "source": [
    "# create new dataframe for `noise_type` == brown and `task` == nap and `freq_type` == beta\n",
    "df_brown = df[(df['noise_type'] == 'brown') & (df['task'] == 'nap') & (df['freq_type'] == 'beta')]\n",
    "\n",
    "# create new dataframe for `noise_type` == white and `task` == nap and `freq_type` == beta\n",
    "df_white = df[(df['noise_type'] == 'white') & (df['task'] == 'nap') & (df['freq_type'] == 'beta')]\n",
    "\n",
    "# create new dataframe for `noise_type` == silent and `task` == nap and `freq_type` == beta\n",
    "df_silent = df[(df['noise_type'] == 'silent') & (df['task'] == 'nap') & (df['freq_type'] == 'beta')]\n",
    "\n",
    "# create new dataframe for `noise_type` == pink and `task` == nap and `freq_type` == beta\n",
    "df_pink = df[(df['noise_type'] == 'pink') & (df['task'] == 'nap') & (df['freq_type'] == 'beta')]"
   ]
  },
  {
   "cell_type": "code",
   "execution_count": 24,
   "metadata": {},
   "outputs": [],
   "source": [
    "group1 = df_silent['rel_pow']\n",
    "group2 = df_brown['rel_pow']\n",
    "group3 = df_white['rel_pow']\n",
    "group4 = df_pink['rel_pow']"
   ]
  },
  {
   "cell_type": "code",
   "execution_count": 25,
   "metadata": {},
   "outputs": [
    {
     "name": "stdout",
     "output_type": "stream",
     "text": [
      "Levene Statistic: 0.013, p=0.913\n",
      "Levene Statistic: 0.010, p=0.923\n",
      "Levene Statistic: 0.255, p=0.632\n"
     ]
    }
   ],
   "source": [
    "stat, p = stats.levene(group1, group2)\n",
    "print('Levene Statistic: %.3f, p=%.3f' % (stat, p))\n",
    "\n",
    "stat, p = stats.levene(group1, group3)\n",
    "print('Levene Statistic: %.3f, p=%.3f' % (stat, p))\n",
    "\n",
    "stat, p = stats.levene(group1, group4)\n",
    "print('Levene Statistic: %.3f, p=%.3f' % (stat, p))"
   ]
  },
  {
   "cell_type": "code",
   "execution_count": 26,
   "metadata": {},
   "outputs": [
    {
     "name": "stdout",
     "output_type": "stream",
     "text": [
      "t=1.396, p=0.212\n",
      "t=-0.286, p=0.785\n",
      "t=-0.414, p=0.694\n"
     ]
    }
   ],
   "source": [
    "stat, p = stats.ttest_ind(group1, group2, equal_var=True)\n",
    "print('t=%.3f, p=%.3f' % (stat, p))\n",
    "\n",
    "stat, p = stats.ttest_ind(group1, group3, equal_var=True)\n",
    "print('t=%.3f, p=%.3f' % (stat, p))\n",
    "\n",
    "stat, p = stats.ttest_ind(group1, group4, equal_var=True)\n",
    "print('t=%.3f, p=%.3f' % (stat, p))"
   ]
  }
 ],
 "metadata": {
  "kernelspec": {
   "display_name": "py37_eeg",
   "language": "python",
   "name": "python3"
  },
  "language_info": {
   "codemirror_mode": {
    "name": "ipython",
    "version": 3
   },
   "file_extension": ".py",
   "mimetype": "text/x-python",
   "name": "python",
   "nbconvert_exporter": "python",
   "pygments_lexer": "ipython3",
   "version": "3.8.16"
  },
  "orig_nbformat": 4
 },
 "nbformat": 4,
 "nbformat_minor": 2
}
