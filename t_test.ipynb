{
 "cells": [
  {
   "cell_type": "code",
   "execution_count": 3,
   "metadata": {},
   "outputs": [],
   "source": [
    "import numpy as np\n",
    "import pandas as pd\n",
    "from scipy import stats\n",
    "from utils import *"
   ]
  },
  {
   "attachments": {},
   "cell_type": "markdown",
   "metadata": {},
   "source": [
    "# Cara Dengan Function\n",
    "\n",
    "**Arguments:**\n",
    "- `csv_file`: path to csv file\n",
    "- `noise`: noise type -> 'white', 'pink', 'brown'\n",
    "- `task`: 'nap' or 'read'\n",
    "- `freq`: 'alpha', 'beta', 'delta', 'theta', 'gamma'\n",
    "- `feature`: 'sum_filtered', 'avg_filtered', 'rel_pow'\n",
    "- `savelog`: if True, will save the report to `ttest_log.csv`"
   ]
  },
  {
   "cell_type": "code",
   "execution_count": 5,
   "metadata": {},
   "outputs": [
    {
     "name": "stdout",
     "output_type": "stream",
     "text": [
      "Levene's test: 0.3664963631293392, 0.567097940851446 | t-test -> -0.07592815357320158, p = 0.9419446824600353\n"
     ]
    }
   ],
   "source": [
    "t_val, p_val = get_ttest(\n",
    "    csv_path='run_log.csv',\n",
    "    noise='white',\n",
    "    task='read',\n",
    "    freq='gamma',\n",
    "    feature='rel_pow',\n",
    "    savelog=True\n",
    ")"
   ]
  },
  {
   "attachments": {},
   "cell_type": "markdown",
   "metadata": {},
   "source": [
    "# Cara Manual"
   ]
  },
  {
   "cell_type": "code",
   "execution_count": null,
   "metadata": {},
   "outputs": [],
   "source": [
    "csv_path = 'run_log.csv'\n",
    "df = pd.read_csv(csv_path)\n",
    "df.head()\n"
   ]
  },
  {
   "cell_type": "code",
   "execution_count": null,
   "metadata": {},
   "outputs": [],
   "source": [
    "# create new dataframe for `noise_type` == brown and `task` == nap and `freq_type` == delta\n",
    "df_brown = df[(df['noise_type'] == 'brown') & (df['task'] == 'nap') & (df['freq_type'] == 'delta')]\n",
    "df_brown.head()"
   ]
  },
  {
   "cell_type": "code",
   "execution_count": null,
   "metadata": {},
   "outputs": [],
   "source": [
    "# create new dataframe for `noise_type` == white and `task` == nap and `freq_type` == delta\n",
    "df_white = df[(df['noise_type'] == 'white') & (df['task'] == 'nap') & (df['freq_type'] == 'delta')]\n",
    "df_white.head()"
   ]
  },
  {
   "cell_type": "code",
   "execution_count": null,
   "metadata": {},
   "outputs": [],
   "source": [
    "# create new dataframe for `noise_type` == silent and `task` == nap and `freq_type` == delta\n",
    "df_silent = df[(df['noise_type'] == 'silent') & (df['task'] == 'nap') & (df['freq_type'] == 'delta')]\n",
    "df_silent.head()"
   ]
  },
  {
   "cell_type": "code",
   "execution_count": null,
   "metadata": {},
   "outputs": [],
   "source": [
    "# create new dataframe for `noise_type` == pink and `task` == nap and `freq_type` == delta\n",
    "df_pink = df[(df['noise_type'] == 'pink') & (df['task'] == 'nap') & (df['freq_type'] == 'delta')]\n",
    "df_pink.head()"
   ]
  },
  {
   "cell_type": "code",
   "execution_count": null,
   "metadata": {},
   "outputs": [],
   "source": [
    "group1 = df_silent['rel_pow']\n",
    "group2 = df_brown['rel_pow']\n",
    "group3 = df_white['rel_pow']\n",
    "group4 = df_pink['rel_pow']"
   ]
  },
  {
   "cell_type": "code",
   "execution_count": null,
   "metadata": {},
   "outputs": [],
   "source": [
    "# print mean of group1 and group2\n",
    "print('group1 mean: ', group1.mean())\n",
    "print('group2 mean: ', group2.mean())\n",
    "print('group3 mean: ', group3.mean())\n",
    "print('group4 mean: ', group4.mean())"
   ]
  },
  {
   "cell_type": "code",
   "execution_count": null,
   "metadata": {},
   "outputs": [],
   "source": [
    "stat, p = stats.levene(group1, group2)\n",
    "print('Levene Statistic: %.3f, p=%.3f' % (stat, p))\n",
    "\n",
    "stat, p = stats.levene(group1, group3)\n",
    "print('Levene Statistic: %.3f, p=%.3f' % (stat, p))\n",
    "\n",
    "stat, p = stats.levene(group1, group4)\n",
    "print('Levene Statistic: %.3f, p=%.3f' % (stat, p))"
   ]
  },
  {
   "cell_type": "code",
   "execution_count": null,
   "metadata": {},
   "outputs": [],
   "source": [
    "t_stat, p = stats.ttest_ind(group1, group2, equal_var=True)\n",
    "print('t=%.3f, p=%.3f' % (t_stat, p))\n",
    "\n",
    "t_stat, p = stats.ttest_ind(group1, group3, equal_var=True)\n",
    "print('t=%.3f, p=%.3f' % (t_stat, p))\n",
    "\n",
    "t_stat, p = stats.ttest_ind(group1, group4, equal_var=True)\n",
    "print('t=%.3f, p=%.3f' % (t_stat, p))"
   ]
  },
  {
   "attachments": {},
   "cell_type": "markdown",
   "metadata": {},
   "source": [
    "---"
   ]
  },
  {
   "cell_type": "code",
   "execution_count": null,
   "metadata": {},
   "outputs": [],
   "source": [
    "# create new dataframe for `noise_type` == brown and `task` == nap and `freq_type` == alpha\n",
    "df_brown = df[(df['noise_type'] == 'brown') & (df['task'] == 'nap') & (df['freq_type'] == 'alpha')]\n",
    "\n",
    "# create new dataframe for `noise_type` == white and `task` == nap and `freq_type` == alpha\n",
    "df_white = df[(df['noise_type'] == 'white') & (df['task'] == 'nap') & (df['freq_type'] == 'alpha')]\n",
    "\n",
    "# create new dataframe for `noise_type` == silent and `task` == nap and `freq_type` == alpha\n",
    "df_silent = df[(df['noise_type'] == 'silent') & (df['task'] == 'nap') & (df['freq_type'] == 'alpha')]\n",
    "\n",
    "# create new dataframe for `noise_type` == pink and `task` == nap and `freq_type` == alpha\n",
    "df_pink = df[(df['noise_type'] == 'pink') & (df['task'] == 'nap') & (df['freq_type'] == 'alpha')]"
   ]
  },
  {
   "cell_type": "code",
   "execution_count": null,
   "metadata": {},
   "outputs": [],
   "source": [
    "group1 = df_silent['rel_pow']\n",
    "group2 = df_brown['rel_pow']\n",
    "group3 = df_white['rel_pow']\n",
    "group4 = df_pink['rel_pow']"
   ]
  },
  {
   "cell_type": "code",
   "execution_count": null,
   "metadata": {},
   "outputs": [],
   "source": [
    "stat, p = stats.levene(group1, group2)\n",
    "print('Levene Statistic: %.3f, p=%.3f' % (stat, p))\n",
    "\n",
    "stat, p = stats.levene(group1, group3)\n",
    "print('Levene Statistic: %.3f, p=%.3f' % (stat, p))\n",
    "\n",
    "stat, p = stats.levene(group1, group4)\n",
    "print('Levene Statistic: %.3f, p=%.3f' % (stat, p))"
   ]
  },
  {
   "cell_type": "code",
   "execution_count": null,
   "metadata": {},
   "outputs": [],
   "source": [
    "t_stat, p = stats.ttest_ind(group1, group2, equal_var=True)\n",
    "print('t=%.3f, p=%.3f' % (t_stat, p))\n",
    "\n",
    "t_stat, p = stats.ttest_ind(group1, group3, equal_var=True)\n",
    "print('t=%.3f, p=%.3f' % (t_stat, p))\n",
    "\n",
    "t_stat, p = stats.ttest_ind(group1, group4, equal_var=True)\n",
    "print('t=%.3f, p=%.3f' % (t_stat, p))"
   ]
  },
  {
   "cell_type": "code",
   "execution_count": null,
   "metadata": {},
   "outputs": [],
   "source": [
    "# create new dataframe for `noise_type` == brown and `task` == read and `freq_type` == alpha\n",
    "df_brown = df[(df['noise_type'] == 'brown') & (df['task'] == 'read') & (df['freq_type'] == 'alpha')]\n",
    "\n",
    "# create new dataframe for `noise_type` == white and `task` == read and `freq_type` == alpha\n",
    "df_white = df[(df['noise_type'] == 'white') & (df['task'] == 'read') & (df['freq_type'] == 'alpha')]\n",
    "\n",
    "# create new dataframe for `noise_type` == silent and `task` == read and `freq_type` == alpha\n",
    "df_silent = df[(df['noise_type'] == 'silent') & (df['task'] == 'read') & (df['freq_type'] == 'alpha')]\n",
    "\n",
    "# create new dataframe for `noise_type` == pink and `task` == read and `freq_type` == alpha\n",
    "df_pink = df[(df['noise_type'] == 'pink') & (df['task'] == 'read') & (df['freq_type'] == 'alpha')]"
   ]
  },
  {
   "cell_type": "code",
   "execution_count": null,
   "metadata": {},
   "outputs": [],
   "source": [
    "group1 = df_silent['rel_pow']\n",
    "group2 = df_brown['rel_pow']\n",
    "group3 = df_white['rel_pow']\n",
    "group4 = df_pink['rel_pow']"
   ]
  },
  {
   "cell_type": "code",
   "execution_count": null,
   "metadata": {},
   "outputs": [],
   "source": [
    "stat, p = stats.levene(group1, group2)\n",
    "print('Levene Statistic: %.3f, p=%.3f' % (stat, p))\n",
    "\n",
    "stat, p = stats.levene(group1, group3)\n",
    "print('Levene Statistic: %.3f, p=%.3f' % (stat, p))\n",
    "\n",
    "stat, p = stats.levene(group1, group4)\n",
    "print('Levene Statistic: %.3f, p=%.3f' % (stat, p))"
   ]
  },
  {
   "cell_type": "code",
   "execution_count": null,
   "metadata": {},
   "outputs": [],
   "source": [
    "stat, p = stats.ttest_ind(group1, group2, equal_var=True)\n",
    "print('t=%.3f, p=%.3f' % (stat, p))\n",
    "\n",
    "stat, p = stats.ttest_ind(group1, group3, equal_var=True)\n",
    "print('t=%.3f, p=%.3f' % (stat, p))\n",
    "\n",
    "stat, p = stats.ttest_ind(group1, group4, equal_var=True)\n",
    "print('t=%.3f, p=%.3f' % (stat, p))"
   ]
  },
  {
   "cell_type": "code",
   "execution_count": null,
   "metadata": {},
   "outputs": [],
   "source": [
    "# create new dataframe for `noise_type` == brown and `task` == nap and `freq_type` == beta\n",
    "df_brown = df[(df['noise_type'] == 'brown') & (df['task'] == 'nap') & (df['freq_type'] == 'beta')]\n",
    "\n",
    "# create new dataframe for `noise_type` == white and `task` == nap and `freq_type` == beta\n",
    "df_white = df[(df['noise_type'] == 'white') & (df['task'] == 'nap') & (df['freq_type'] == 'beta')]\n",
    "\n",
    "# create new dataframe for `noise_type` == silent and `task` == nap and `freq_type` == beta\n",
    "df_silent = df[(df['noise_type'] == 'silent') & (df['task'] == 'nap') & (df['freq_type'] == 'beta')]\n",
    "\n",
    "# create new dataframe for `noise_type` == pink and `task` == nap and `freq_type` == beta\n",
    "df_pink = df[(df['noise_type'] == 'pink') & (df['task'] == 'nap') & (df['freq_type'] == 'beta')]"
   ]
  },
  {
   "cell_type": "code",
   "execution_count": null,
   "metadata": {},
   "outputs": [],
   "source": [
    "group1 = df_silent['rel_pow']\n",
    "group2 = df_brown['rel_pow']\n",
    "group3 = df_white['rel_pow']\n",
    "group4 = df_pink['rel_pow']"
   ]
  },
  {
   "cell_type": "code",
   "execution_count": null,
   "metadata": {},
   "outputs": [],
   "source": [
    "stat, p = stats.levene(group1, group2)\n",
    "print('Levene Statistic: %.3f, p=%.3f' % (stat, p))\n",
    "\n",
    "stat, p = stats.levene(group1, group3)\n",
    "print('Levene Statistic: %.3f, p=%.3f' % (stat, p))\n",
    "\n",
    "stat, p = stats.levene(group1, group4)\n",
    "print('Levene Statistic: %.3f, p=%.3f' % (stat, p))"
   ]
  },
  {
   "cell_type": "code",
   "execution_count": null,
   "metadata": {},
   "outputs": [],
   "source": [
    "stat, p = stats.ttest_ind(group1, group2, equal_var=True)\n",
    "print('t=%.3f, p=%.3f' % (stat, p))\n",
    "\n",
    "stat, p = stats.ttest_ind(group1, group3, equal_var=True)\n",
    "print('t=%.3f, p=%.3f' % (stat, p))\n",
    "\n",
    "stat, p = stats.ttest_ind(group1, group4, equal_var=True)\n",
    "print('t=%.3f, p=%.3f' % (stat, p))"
   ]
  }
 ],
 "metadata": {
  "kernelspec": {
   "display_name": "py37_eeg",
   "language": "python",
   "name": "python3"
  },
  "language_info": {
   "codemirror_mode": {
    "name": "ipython",
    "version": 3
   },
   "file_extension": ".py",
   "mimetype": "text/x-python",
   "name": "python",
   "nbconvert_exporter": "python",
   "pygments_lexer": "ipython3",
   "version": "3.8.16"
  },
  "orig_nbformat": 4
 },
 "nbformat": 4,
 "nbformat_minor": 2
}
