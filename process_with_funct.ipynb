{
 "cells": [
  {
   "attachments": {},
   "cell_type": "markdown",
   "metadata": {},
   "source": [
    "# Processing EEG for Stimuli Research\n",
    "\n",
    "## 1. Importing Necessary Libraries\n",
    "Explanation:\n",
    "- `mne` is a library for EEG data processing\n",
    "- `numpy` is a library for numerical processing\n",
    "- `matplotlib` is a library for plotting\n",
    "- `pandas` is a library for data processing\n",
    "- `os` is a library for operating system related functions"
   ]
  },
  {
   "cell_type": "code",
   "execution_count": 25,
   "metadata": {},
   "outputs": [],
   "source": [
    "import mne\n",
    "import numpy as np\n",
    "import matplotlib.pyplot as plt\n",
    "import os\n",
    "import pandas as pd\n",
    "from tabulate import tabulate\n",
    "\n",
    "from utils import get_psd_feature"
   ]
  },
  {
   "attachments": {},
   "cell_type": "markdown",
   "metadata": {},
   "source": [
    "## 2. Define Working Path\n",
    "\n",
    "Working path is the path where the data is stored. The data is stored in the same folder as this notebook."
   ]
  },
  {
   "cell_type": "code",
   "execution_count": 2,
   "metadata": {},
   "outputs": [],
   "source": [
    "data_path = \"EEG_EDF_Files_RSY\""
   ]
  },
  {
   "attachments": {},
   "cell_type": "markdown",
   "metadata": {},
   "source": [
    "## 3. Get List of Subject\n",
    "\n",
    "**File Naming Convention**\n",
    "`[subject_id]_[noise_type]_[read/nap]_EPOCX_[the_rest_of_timestamp].edf`\n",
    "\n",
    "- `subject_id` is an integer starting from 1 as the subject number\n",
    "- `noise_type` is either `brown` or `pink` or `white` or `silent` (for no noise)\n",
    "- `read/nap` is showing the task that the subject is doing. `read` is for reading a book, `nap` is for taking a nap\n",
    "- `the_rest_of_timestamp` is the timestamp of the recording based on EPOCX format\n"
   ]
  },
  {
   "cell_type": "code",
   "execution_count": 3,
   "metadata": {},
   "outputs": [
    {
     "name": "stdout",
     "output_type": "stream",
     "text": [
      "File list: ['1_brown_nap.edf', '1_brown_read.edf', '1_pink_nap.edf', '1_pink_read.edf', '1_silent_nap.edf', '1_silent_read.edf', '1_white_nap.edf', '1_white_read.edf', '2_brown_nap.edf', '2_brown_read.edf', '2_pink_nap.edf', '2_pink_read.edf', '2_silent_nap.edf', '2_silent_read.edf', '2_white_nap.edf', '2_white_read.edf', '3_brown_nap.edf', '3_brown_read.edf', '3_pink_nap.edf', '3_pink_read.edf', '3_silent_nap.edf', '3_silent_read.edf', '3_white_nap.edf', '3_white_read.edf', '4_brown_nap.edf', '4_brown_read.edf', '4_pink_nap.edf', '4_pink_read.edf', '4_silent_nap.edf', '4_silent_read.edf', '4_white_nap.edf', '4_white_read.edf']\n"
     ]
    }
   ],
   "source": [
    "file_list = sorted(os.listdir(data_path))\n",
    "print(f\"File list: {file_list}\")"
   ]
  },
  {
   "attachments": {},
   "cell_type": "markdown",
   "metadata": {},
   "source": [
    "### 3.1. Create a Dataframe"
   ]
  },
  {
   "cell_type": "code",
   "execution_count": 4,
   "metadata": {},
   "outputs": [],
   "source": [
    "data = []\n",
    "\n",
    "for item in file_list:\n",
    "    # split by underscore\n",
    "    split_item = item.split('_')\n",
    "    \n",
    "    id_no = split_item[0]\n",
    "    noise_type = split_item[1]\n",
    "    task = split_item[2][:-4]\n",
    "    full_path = os.path.join(data_path, item)\n",
    "    \n",
    "    # add to dataframe\n",
    "    data.append({'subject': id_no, 'noise_type': noise_type, 'task': task, 'path': full_path})\n",
    "\n"
   ]
  },
  {
   "cell_type": "code",
   "execution_count": 27,
   "metadata": {},
   "outputs": [
    {
     "name": "stdout",
     "output_type": "stream",
     "text": [
      "╒════╤═══════════╤══════════════╤════════╤═════════════════════════════════════╕\n",
      "│    │   subject │ noise_type   │ task   │ path                                │\n",
      "╞════╪═══════════╪══════════════╪════════╪═════════════════════════════════════╡\n",
      "│  0 │         1 │ brown        │ nap    │ EEG_EDF_Files_RSY/1_brown_nap.edf   │\n",
      "├────┼───────────┼──────────────┼────────┼─────────────────────────────────────┤\n",
      "│  1 │         1 │ brown        │ read   │ EEG_EDF_Files_RSY/1_brown_read.edf  │\n",
      "├────┼───────────┼──────────────┼────────┼─────────────────────────────────────┤\n",
      "│  2 │         1 │ pink         │ nap    │ EEG_EDF_Files_RSY/1_pink_nap.edf    │\n",
      "├────┼───────────┼──────────────┼────────┼─────────────────────────────────────┤\n",
      "│  3 │         1 │ pink         │ read   │ EEG_EDF_Files_RSY/1_pink_read.edf   │\n",
      "├────┼───────────┼──────────────┼────────┼─────────────────────────────────────┤\n",
      "│  4 │         1 │ silent       │ nap    │ EEG_EDF_Files_RSY/1_silent_nap.edf  │\n",
      "├────┼───────────┼──────────────┼────────┼─────────────────────────────────────┤\n",
      "│  5 │         1 │ silent       │ read   │ EEG_EDF_Files_RSY/1_silent_read.edf │\n",
      "├────┼───────────┼──────────────┼────────┼─────────────────────────────────────┤\n",
      "│  6 │         1 │ white        │ nap    │ EEG_EDF_Files_RSY/1_white_nap.edf   │\n",
      "├────┼───────────┼──────────────┼────────┼─────────────────────────────────────┤\n",
      "│  7 │         1 │ white        │ read   │ EEG_EDF_Files_RSY/1_white_read.edf  │\n",
      "├────┼───────────┼──────────────┼────────┼─────────────────────────────────────┤\n",
      "│  8 │         2 │ brown        │ nap    │ EEG_EDF_Files_RSY/2_brown_nap.edf   │\n",
      "├────┼───────────┼──────────────┼────────┼─────────────────────────────────────┤\n",
      "│  9 │         2 │ brown        │ read   │ EEG_EDF_Files_RSY/2_brown_read.edf  │\n",
      "├────┼───────────┼──────────────┼────────┼─────────────────────────────────────┤\n",
      "│ 10 │         2 │ pink         │ nap    │ EEG_EDF_Files_RSY/2_pink_nap.edf    │\n",
      "├────┼───────────┼──────────────┼────────┼─────────────────────────────────────┤\n",
      "│ 11 │         2 │ pink         │ read   │ EEG_EDF_Files_RSY/2_pink_read.edf   │\n",
      "├────┼───────────┼──────────────┼────────┼─────────────────────────────────────┤\n",
      "│ 12 │         2 │ silent       │ nap    │ EEG_EDF_Files_RSY/2_silent_nap.edf  │\n",
      "├────┼───────────┼──────────────┼────────┼─────────────────────────────────────┤\n",
      "│ 13 │         2 │ silent       │ read   │ EEG_EDF_Files_RSY/2_silent_read.edf │\n",
      "├────┼───────────┼──────────────┼────────┼─────────────────────────────────────┤\n",
      "│ 14 │         2 │ white        │ nap    │ EEG_EDF_Files_RSY/2_white_nap.edf   │\n",
      "├────┼───────────┼──────────────┼────────┼─────────────────────────────────────┤\n",
      "│ 15 │         2 │ white        │ read   │ EEG_EDF_Files_RSY/2_white_read.edf  │\n",
      "├────┼───────────┼──────────────┼────────┼─────────────────────────────────────┤\n",
      "│ 16 │         3 │ brown        │ nap    │ EEG_EDF_Files_RSY/3_brown_nap.edf   │\n",
      "├────┼───────────┼──────────────┼────────┼─────────────────────────────────────┤\n",
      "│ 17 │         3 │ brown        │ read   │ EEG_EDF_Files_RSY/3_brown_read.edf  │\n",
      "├────┼───────────┼──────────────┼────────┼─────────────────────────────────────┤\n",
      "│ 18 │         3 │ pink         │ nap    │ EEG_EDF_Files_RSY/3_pink_nap.edf    │\n",
      "├────┼───────────┼──────────────┼────────┼─────────────────────────────────────┤\n",
      "│ 19 │         3 │ pink         │ read   │ EEG_EDF_Files_RSY/3_pink_read.edf   │\n",
      "├────┼───────────┼──────────────┼────────┼─────────────────────────────────────┤\n",
      "│ 20 │         3 │ silent       │ nap    │ EEG_EDF_Files_RSY/3_silent_nap.edf  │\n",
      "├────┼───────────┼──────────────┼────────┼─────────────────────────────────────┤\n",
      "│ 21 │         3 │ silent       │ read   │ EEG_EDF_Files_RSY/3_silent_read.edf │\n",
      "├────┼───────────┼──────────────┼────────┼─────────────────────────────────────┤\n",
      "│ 22 │         3 │ white        │ nap    │ EEG_EDF_Files_RSY/3_white_nap.edf   │\n",
      "├────┼───────────┼──────────────┼────────┼─────────────────────────────────────┤\n",
      "│ 23 │         3 │ white        │ read   │ EEG_EDF_Files_RSY/3_white_read.edf  │\n",
      "├────┼───────────┼──────────────┼────────┼─────────────────────────────────────┤\n",
      "│ 24 │         4 │ brown        │ nap    │ EEG_EDF_Files_RSY/4_brown_nap.edf   │\n",
      "├────┼───────────┼──────────────┼────────┼─────────────────────────────────────┤\n",
      "│ 25 │         4 │ brown        │ read   │ EEG_EDF_Files_RSY/4_brown_read.edf  │\n",
      "├────┼───────────┼──────────────┼────────┼─────────────────────────────────────┤\n",
      "│ 26 │         4 │ pink         │ nap    │ EEG_EDF_Files_RSY/4_pink_nap.edf    │\n",
      "├────┼───────────┼──────────────┼────────┼─────────────────────────────────────┤\n",
      "│ 27 │         4 │ pink         │ read   │ EEG_EDF_Files_RSY/4_pink_read.edf   │\n",
      "├────┼───────────┼──────────────┼────────┼─────────────────────────────────────┤\n",
      "│ 28 │         4 │ silent       │ nap    │ EEG_EDF_Files_RSY/4_silent_nap.edf  │\n",
      "├────┼───────────┼──────────────┼────────┼─────────────────────────────────────┤\n",
      "│ 29 │         4 │ silent       │ read   │ EEG_EDF_Files_RSY/4_silent_read.edf │\n",
      "├────┼───────────┼──────────────┼────────┼─────────────────────────────────────┤\n",
      "│ 30 │         4 │ white        │ nap    │ EEG_EDF_Files_RSY/4_white_nap.edf   │\n",
      "├────┼───────────┼──────────────┼────────┼─────────────────────────────────────┤\n",
      "│ 31 │         4 │ white        │ read   │ EEG_EDF_Files_RSY/4_white_read.edf  │\n",
      "╘════╧═══════════╧══════════════╧════════╧═════════════════════════════════════╛\n"
     ]
    }
   ],
   "source": [
    "df = pd.DataFrame(data)\n",
    "print(tabulate(df, headers='keys', tablefmt='fancy_grid'))"
   ]
  },
  {
   "attachments": {},
   "cell_type": "markdown",
   "metadata": {},
   "source": [
    "---"
   ]
  },
  {
   "attachments": {},
   "cell_type": "markdown",
   "metadata": {},
   "source": [
    "## 4. Processing Single Files"
   ]
  },
  {
   "attachments": {},
   "cell_type": "markdown",
   "metadata": {},
   "source": [
    "#### 4.1. Read the EDF"
   ]
  },
  {
   "cell_type": "code",
   "execution_count": 6,
   "metadata": {},
   "outputs": [],
   "source": [
    "brown_nap_df = mne.io.read_raw_edf(df['path'][0], preload=True, verbose=False)\n",
    "brown_nap_df = brown_nap_df.to_data_frame()"
   ]
  },
  {
   "attachments": {},
   "cell_type": "markdown",
   "metadata": {},
   "source": [
    "#### 4.2. Using Pre-configured Function\n",
    "**Args:**\n",
    "- `dataframe`: the dataframe that contains the information of the subject\n",
    "- `freq_type`: the type of frequency that is going to be extracted. It can be `alpha`, `beta`, `delta`, `theta`, or `gamma`\n",
    "- `fs`: the sampling frequency of the EEG data (Default: 256)\n",
    "- `len_drop`: the length of the data that is going to be dropped from the beginning of the data (Default: 7680)\n",
    "- `len_keep`: the length of the data that is going to be kept after dropping the beginning of the data (Default: 46080)\n",
    "- `plot_psd`: whether to plot the PSD of the data or not (Default: False)\n",
    "- `save_psd`: whether to save the PSD of the data or not (Default: False). The default saving folder is `output`\n",
    "- `channel_drop`: the channels that are going to be dropped from the data (Default: `None`). Should be in list format and capital letters, for example: `['FP1', 'FP2']`\n",
    "\n",
    "**Returns**:\n",
    "- Output as a dictionary, containing:\n",
    "    - `sum_raw`: sum_raw,\n",
    "    - `avg_raw`: avg_raw,\n",
    "    - `sum_filtered`: sum_filtered,\n",
    "    - `avg_filtered`: avg_filtered,\n",
    "    - `rel_pow`: rel_pow,"
   ]
  },
  {
   "cell_type": "code",
   "execution_count": 7,
   "metadata": {},
   "outputs": [],
   "source": [
    "results = get_psd_feature(\n",
    "    dataframe=brown_nap_df,\n",
    "    freq_type='alpha',\n",
    ")"
   ]
  },
  {
   "cell_type": "code",
   "execution_count": 8,
   "metadata": {},
   "outputs": [
    {
     "name": "stdout",
     "output_type": "stream",
     "text": [
      "sum_raw: 361839889.22784317\n",
      "avg_raw: 1121.726764177656\n",
      "sum_filtered: 8474707.797211967\n",
      "avg_filtered: 26.272135377345872\n",
      "rel_pow: 0.0234211540781111\n"
     ]
    }
   ],
   "source": [
    "# for every key in results, print the key and the value\n",
    "for key, value in results.items():\n",
    "    print(f\"{key}: {value}\")"
   ]
  },
  {
   "attachments": {},
   "cell_type": "markdown",
   "metadata": {},
   "source": [
    "# 5. Processing Batch Files"
   ]
  }
 ],
 "metadata": {
  "kernelspec": {
   "display_name": "EEG",
   "language": "python",
   "name": "python3"
  },
  "language_info": {
   "codemirror_mode": {
    "name": "ipython",
    "version": 3
   },
   "file_extension": ".py",
   "mimetype": "text/x-python",
   "name": "python",
   "nbconvert_exporter": "python",
   "pygments_lexer": "ipython3",
   "version": "3.8.16"
  },
  "orig_nbformat": 4
 },
 "nbformat": 4,
 "nbformat_minor": 2
}
