{
 "cells": [
  {
   "cell_type": "code",
   "execution_count": 90,
   "metadata": {},
   "outputs": [],
   "source": [
    "import mne\n",
    "import numpy as np\n",
    "import matplotlib.pyplot as plt\n",
    "import os\n",
    "import pandas as pd\n",
    "\n",
    "from utils import get_psd_feature"
   ]
  },
  {
   "cell_type": "code",
   "execution_count": 91,
   "metadata": {},
   "outputs": [],
   "source": [
    "data_path = r\"C:\\Users\\SpaceLab\\Developer\\EEG_Stimuli_Relax_RSY\\EEG_EDF_Files_RSY\""
   ]
  },
  {
   "cell_type": "code",
   "execution_count": 92,
   "metadata": {},
   "outputs": [
    {
     "name": "stdout",
     "output_type": "stream",
     "text": [
      "File list: ['1_brown_nap.edf', '1_brown_read.edf', '1_pink_nap.edf', '1_pink_read.edf', '1_silent_nap.edf', '1_silent_read.edf', '1_white_nap.edf', '1_white_read.edf', '2_brown_nap.edf', '2_brown_read.edf', '2_pink_nap.edf', '2_pink_read.edf', '2_silent_nap.edf', '2_silent_read.edf', '2_white_nap.edf', '2_white_read.edf', '3_brown_nap.edf', '3_brown_read.edf', '3_pink_nap.edf', '3_pink_read.edf', '3_silent_nap.edf', '3_silent_read.edf', '3_white_nap.edf', '3_white_read.edf', '4_brown_nap.edf', '4_brown_read.edf', '4_pink_nap.edf', '4_pink_read.edf', '4_silent_nap.edf', '4_silent_read.edf', '4_white_nap.edf', '4_white_read.edf']\n"
     ]
    }
   ],
   "source": [
    "file_list = sorted(os.listdir(data_path))\n",
    "print(f\"File list: {file_list}\")"
   ]
  },
  {
   "cell_type": "code",
   "execution_count": 93,
   "metadata": {},
   "outputs": [],
   "source": [
    "data = []\n",
    "\n",
    "for item in file_list:\n",
    "    # split by underscore\n",
    "    split_item = item.split('_')\n",
    "    \n",
    "    id_no = split_item[0]\n",
    "    noise_type = split_item[1]\n",
    "    task = split_item[2][:-4]\n",
    "    full_path = os.path.join(data_path, item)\n",
    "    \n",
    "    # add to dataframe\n",
    "    data.append({'subject': id_no, 'noise_type': noise_type, 'task': task, 'path': full_path})\n",
    "\n"
   ]
  },
  {
   "cell_type": "code",
   "execution_count": 94,
   "metadata": {},
   "outputs": [
    {
     "name": "stdout",
     "output_type": "stream",
     "text": [
      "  subject noise_type  task                                               path\n",
      "0       1      brown   nap  C:\\Users\\SpaceLab\\Developer\\EEG_Stimuli_Relax_...\n",
      "1       1      brown  read  C:\\Users\\SpaceLab\\Developer\\EEG_Stimuli_Relax_...\n",
      "2       1       pink   nap  C:\\Users\\SpaceLab\\Developer\\EEG_Stimuli_Relax_...\n",
      "3       1       pink  read  C:\\Users\\SpaceLab\\Developer\\EEG_Stimuli_Relax_...\n",
      "4       1     silent   nap  C:\\Users\\SpaceLab\\Developer\\EEG_Stimuli_Relax_...\n"
     ]
    }
   ],
   "source": [
    "df = pd.DataFrame(data)\n",
    "print(df.head())"
   ]
  },
  {
   "attachments": {},
   "cell_type": "markdown",
   "metadata": {},
   "source": [
    "---"
   ]
  },
  {
   "cell_type": "code",
   "execution_count": 95,
   "metadata": {},
   "outputs": [],
   "source": [
    "brown_nap_df = mne.io.read_raw_edf(df['path'][0], preload=True, verbose=False)\n",
    "brown_nap_df = brown_nap_df.to_data_frame()"
   ]
  },
  {
   "cell_type": "code",
   "execution_count": 96,
   "metadata": {},
   "outputs": [],
   "source": [
    "results = get_psd_feature(\n",
    "    dataframe=brown_nap_df,\n",
    "    freq_type='alpha',\n",
    ")"
   ]
  },
  {
   "cell_type": "code",
   "execution_count": 97,
   "metadata": {},
   "outputs": [
    {
     "name": "stdout",
     "output_type": "stream",
     "text": [
      "sum_raw: 361839889.21032053\n",
      "avg_raw: 1121.7267641233345\n",
      "sum_filtered: 8474707.79714129\n",
      "avg_filtered: 26.272135377126766\n",
      "rel_pow: 0.023421154079049974\n"
     ]
    }
   ],
   "source": [
    "# for every key in results, print the key and the value\n",
    "for key, value in results.items():\n",
    "    print(f\"{key}: {value}\")"
   ]
  },
  {
   "cell_type": "code",
   "execution_count": 98,
   "metadata": {},
   "outputs": [],
   "source": [
    "# brown read\n",
    "brown_read_df = mne.io.read_raw_edf(df['path'][1], preload=True, verbose=False)\n",
    "brown_read_df = brown_read_df.to_data_frame()\n",
    "\n",
    "results = get_psd_feature(\n",
    "    dataframe=brown_read_df,\n",
    "    freq_type='alpha',\n",
    ")"
   ]
  },
  {
   "cell_type": "code",
   "execution_count": 99,
   "metadata": {},
   "outputs": [
    {
     "name": "stdout",
     "output_type": "stream",
     "text": [
      "sum_raw: 806568485.6535794\n",
      "avg_raw: 2500.413814050665\n",
      "sum_filtered: 22619472.77530377\n",
      "avg_filtered: 70.12181011273\n",
      "rel_pow: 0.028044082031019022\n"
     ]
    }
   ],
   "source": [
    "# for every key in results, print the key and the value\n",
    "for key, value in results.items():\n",
    "    print(f\"{key}: {value}\")\n",
    "    \n"
   ]
  },
  {
   "cell_type": "code",
   "execution_count": 100,
   "metadata": {},
   "outputs": [],
   "source": [
    "# pink nap\n",
    "pink_nap_df = mne.io.read_raw_edf(df['path'][2], preload=True, verbose=False)\n",
    "pink_nap_df = pink_nap_df.to_data_frame()\n",
    "\n",
    "results = get_psd_feature(\n",
    "    dataframe=pink_nap_df,\n",
    "    freq_type='alpha',\n",
    ")"
   ]
  },
  {
   "cell_type": "code",
   "execution_count": 101,
   "metadata": {},
   "outputs": [
    {
     "name": "stdout",
     "output_type": "stream",
     "text": [
      "sum_raw: 205827496.40187186\n",
      "avg_raw: 638.078383260498\n",
      "sum_filtered: 8488641.713915309\n",
      "avg_filtered: 26.315331408964482\n",
      "rel_pow: 0.041241534111368175\n"
     ]
    }
   ],
   "source": [
    "# for every key in results, print the key and the value\n",
    "for key, value in results.items():\n",
    "    print(f\"{key}: {value}\")\n",
    "    "
   ]
  },
  {
   "cell_type": "code",
   "execution_count": 102,
   "metadata": {},
   "outputs": [],
   "source": [
    "# pink read\n",
    "pink_read_df = mne.io.read_raw_edf(df['path'][3], preload=True, verbose=False)\n",
    "pink_read_df = pink_read_df.to_data_frame()\n",
    "\n",
    "results = get_psd_feature(\n",
    "    dataframe=pink_read_df,\n",
    "    freq_type='alpha',\n",
    ")"
   ]
  },
  {
   "cell_type": "code",
   "execution_count": 103,
   "metadata": {},
   "outputs": [
    {
     "name": "stdout",
     "output_type": "stream",
     "text": [
      "sum_raw: 541002043.0113119\n",
      "avg_raw: 1677.140882437245\n",
      "sum_filtered: 12041769.796496492\n",
      "avg_filtered: 37.3302553723998\n",
      "rel_pow: 0.022258270466909695\n"
     ]
    }
   ],
   "source": [
    "# for every key in results, print the key and the value\n",
    "for key, value in results.items():\n",
    "    print(f\"{key}: {value}\")"
   ]
  },
  {
   "cell_type": "code",
   "execution_count": 104,
   "metadata": {},
   "outputs": [],
   "source": [
    "# white nap\n",
    "white_nap_df = mne.io.read_raw_edf(df['path'][6], preload=True, verbose=False)\n",
    "white_nap_df = white_nap_df.to_data_frame()\n",
    "\n",
    "results = get_psd_feature(\n",
    "    dataframe=white_nap_df,\n",
    "    freq_type='alpha',\n",
    ")"
   ]
  },
  {
   "cell_type": "code",
   "execution_count": 105,
   "metadata": {},
   "outputs": [
    {
     "name": "stdout",
     "output_type": "stream",
     "text": [
      "sum_raw: 181606847.52950385\n",
      "avg_raw: 562.9928249936568\n",
      "sum_filtered: 7928818.526489507\n",
      "avg_filtered: 24.579843776899278\n",
      "rel_pow: 0.04365924872519684\n"
     ]
    }
   ],
   "source": [
    "# for every key in results, print the key and the value\n",
    "for key, value in results.items():\n",
    "    print(f\"{key}: {value}\")"
   ]
  },
  {
   "cell_type": "code",
   "execution_count": 106,
   "metadata": {},
   "outputs": [],
   "source": [
    "# white read\n",
    "white_read_df = mne.io.read_raw_edf(df['path'][7], preload=True, verbose=False)\n",
    "white_read_df = white_read_df.to_data_frame()\n",
    "\n",
    "results = get_psd_feature(\n",
    "    dataframe=white_read_df,\n",
    "    freq_type='alpha',\n",
    ")"
   ]
  },
  {
   "cell_type": "code",
   "execution_count": 107,
   "metadata": {},
   "outputs": [
    {
     "name": "stdout",
     "output_type": "stream",
     "text": [
      "sum_raw: 468924941.2401898\n",
      "avg_raw: 1453.697264008227\n",
      "sum_filtered: 15085999.439883769\n",
      "avg_filtered: 46.7675616754102\n",
      "rel_pow: 0.03217145882661957\n"
     ]
    }
   ],
   "source": [
    "# for every key in results, print the key and the value\n",
    "for key, value in results.items():\n",
    "    print(f\"{key}: {value}\")\n",
    "    "
   ]
  },
  {
   "cell_type": "code",
   "execution_count": 108,
   "metadata": {},
   "outputs": [],
   "source": [
    "# silent nap\n",
    "silent_nap_df = mne.io.read_raw_edf(df['path'][4], preload=True, verbose=False)\n",
    "silent_nap_df = silent_nap_df.to_data_frame()\n",
    "\n",
    "results = get_psd_feature(\n",
    "    dataframe=silent_nap_df,\n",
    "    freq_type='alpha',\n",
    ")"
   ]
  },
  {
   "cell_type": "code",
   "execution_count": 109,
   "metadata": {},
   "outputs": [
    {
     "name": "stdout",
     "output_type": "stream",
     "text": [
      "sum_raw: 196544233.71313906\n",
      "avg_raw: 703.0333935927082\n",
      "sum_filtered: 7313178.551223583\n",
      "avg_filtered: 26.159041339875316\n",
      "rel_pow: 0.0372088176440594\n"
     ]
    }
   ],
   "source": [
    "# for every key in results, print the key and the value\n",
    "for key, value in results.items():\n",
    "    print(f\"{key}: {value}\")\n",
    "    "
   ]
  },
  {
   "cell_type": "code",
   "execution_count": 110,
   "metadata": {},
   "outputs": [],
   "source": [
    "# silent read\n",
    "silent_read_df = mne.io.read_raw_edf(df['path'][5], preload=True, verbose=False)\n",
    "silent_read_df = silent_read_df.to_data_frame()\n",
    "\n",
    "results = get_psd_feature(\n",
    "    dataframe=silent_read_df,\n",
    "    freq_type='alpha',\n",
    ")\n"
   ]
  },
  {
   "cell_type": "code",
   "execution_count": 111,
   "metadata": {},
   "outputs": [
    {
     "name": "stdout",
     "output_type": "stream",
     "text": [
      "sum_raw: 864702618.6933143\n",
      "avg_raw: 2680.633338996058\n",
      "sum_filtered: 12832814.018766742\n",
      "avg_filtered: 39.78254297856226\n",
      "rel_pow: 0.014840725286756857\n"
     ]
    }
   ],
   "source": [
    "# for every key in results, print the key and the value\n",
    "for key, value in results.items():\n",
    "    print(f\"{key}: {value}\")\n",
    "    "
   ]
  },
  {
   "cell_type": "code",
   "execution_count": 112,
   "metadata": {},
   "outputs": [
    {
     "name": "stdout",
     "output_type": "stream",
     "text": [
      "Subject 0: {'sum_raw': 361839889.21032053, 'avg_raw': 1121.7267641233345, 'sum_filtered': 8474707.79714129, 'avg_filtered': 26.272135377126766, 'rel_pow': 0.023421154079049974}\n",
      "Subject 1: {'sum_raw': 806568485.6535794, 'avg_raw': 2500.413814050665, 'sum_filtered': 22619472.77530377, 'avg_filtered': 70.12181011273, 'rel_pow': 0.028044082031019022}\n",
      "Subject 2: {'sum_raw': 205827496.40187186, 'avg_raw': 638.078383260498, 'sum_filtered': 8488641.713915309, 'avg_filtered': 26.315331408964482, 'rel_pow': 0.041241534111368175}\n",
      "Subject 3: {'sum_raw': 541002043.0113119, 'avg_raw': 1677.140882437245, 'sum_filtered': 12041769.796496492, 'avg_filtered': 37.3302553723998, 'rel_pow': 0.022258270466909695}\n",
      "Subject 4: {'sum_raw': 196544233.71313906, 'avg_raw': 703.0333935927082, 'sum_filtered': 7313178.551223583, 'avg_filtered': 26.159041339875316, 'rel_pow': 0.0372088176440594}\n",
      "Subject 5: {'sum_raw': 864702618.6933143, 'avg_raw': 2680.633338996058, 'sum_filtered': 12832814.018766742, 'avg_filtered': 39.78254297856226, 'rel_pow': 0.014840725286756857}\n",
      "Subject 6: {'sum_raw': 181606847.52950385, 'avg_raw': 562.9928249936568, 'sum_filtered': 7928818.526489507, 'avg_filtered': 24.579843776899278, 'rel_pow': 0.04365924872519684}\n",
      "Subject 7: {'sum_raw': 468924941.2401898, 'avg_raw': 1453.697264008227, 'sum_filtered': 15085999.439883769, 'avg_filtered': 46.7675616754102, 'rel_pow': 0.03217145882661957}\n",
      "Subject 8: {'sum_raw': 298262847.7173377, 'avg_raw': 924.6338753815799, 'sum_filtered': 20966677.53227603, 'avg_filtered': 64.99803930966547, 'rel_pow': 0.07029597448270208}\n",
      "Subject 9: {'sum_raw': 395843325.98265845, 'avg_raw': 1227.1395896217873, 'sum_filtered': 27286072.973840866, 'avg_filtered': 84.5885687434228, 'rel_pow': 0.06893149683932336}\n",
      "Subject 10: {'sum_raw': 327484693.5803026, 'avg_raw': 1015.2234637022904, 'sum_filtered': 15228856.50909434, 'avg_filtered': 47.21042771300334, 'rel_pow': 0.046502498613298}\n",
      "Subject 11: {'sum_raw': 338714500.9140391, 'avg_raw': 1050.036583587143, 'sum_filtered': 23285653.999753587, 'avg_filtered': 72.18701445173383, 'rel_pow': 0.0687471423187257}\n",
      "Subject 12: {'sum_raw': 281844550.5404152, 'avg_raw': 873.7361056390633, 'sum_filtered': 38046216.38584422, 'avg_filtered': 117.94570047754694, 'rel_pow': 0.13499007276491076}\n",
      "Subject 13: {'sum_raw': 3920419991.8210087, 'avg_raw': 12153.552337823287, 'sum_filtered': 29539296.345587377, 'avg_filtered': 91.57370508964571, 'rel_pow': 0.0075347275055258995}\n",
      "Subject 14: {'sum_raw': 407447368.51769286, 'avg_raw': 1263.112862529816, 'sum_filtered': 15215625.392884947, 'avg_filtered': 47.169410407797734, 'rel_pow': 0.03734378123054249}\n",
      "Subject 15: {'sum_raw': 747385211.6440583, 'avg_raw': 2316.941885099414, 'sum_filtered': 30375657.52675176, 'avg_filtered': 94.1664781623806, 'rel_pow': 0.04064257233553364}\n",
      "Subject 16: {'sum_raw': 2281219629.7364063, 'avg_raw': 7071.926533869458, 'sum_filtered': 46112388.691538684, 'avg_filtered': 142.9513497415746, 'rel_pow': 0.020213918945133285}\n",
      "Subject 17: {'sum_raw': 811002820.5599338, 'avg_raw': 2514.1605354428248, 'sum_filtered': 21180011.50516247, 'avg_filtered': 65.6593882494016, 'rel_pow': 0.026115829647225315}\n",
      "Subject 18: {'sum_raw': 209598373.1872219, 'avg_raw': 649.7683421082354, 'sum_filtered': 44154634.63436532, 'avg_filtered': 136.88218713958756, 'rel_pow': 0.21066305984600645}\n",
      "Subject 19: {'sum_raw': 2712440724.365088, 'avg_raw': 8408.739465564764, 'sum_filtered': 24427562.027722947, 'avg_filtered': 75.72700226218774, 'rel_pow': 0.009005749621843185}\n",
      "Subject 20: {'sum_raw': 3165079124.9722333, 'avg_raw': 9811.947413530643, 'sum_filtered': 41169638.92233185, 'avg_filtered': 127.62850980653074, 'rel_pow': 0.013007459623207056}\n",
      "Subject 21: {'sum_raw': 900853683.7842933, 'avg_raw': 2792.7039494326677, 'sum_filtered': 42593766.537590526, 'avg_filtered': 132.04339636049565, 'rel_pow': 0.04728155893048385}\n",
      "Subject 22: {'sum_raw': 265785153.92341453, 'avg_raw': 823.9509505521664, 'sum_filtered': 14800983.965864513, 'avg_filtered': 45.88399550448738, 'rel_pow': 0.0556877754358296}\n",
      "Subject 23: {'sum_raw': 10874587784.655907, 'avg_raw': 33711.91659791523, 'sum_filtered': 19960315.904792238, 'avg_filtered': 61.878253996888276, 'rel_pow': 0.0018355009219711606}\n",
      "Subject 24: {'sum_raw': 11897125893.932722, 'avg_raw': 36881.8500373022, 'sum_filtered': 31294952.93751057, 'avg_filtered': 97.01635264314721, 'rel_pow': 0.0026304632914299344}\n",
      "Subject 25: {'sum_raw': 14927722876.76671, 'avg_raw': 46276.894221997776, 'sum_filtered': 40366727.680828564, 'avg_filtered': 125.13943368290242, 'rel_pow': 0.002704145033644398}\n",
      "Subject 26: {'sum_raw': 2815602657.4867144, 'avg_raw': 8728.548046298569, 'sum_filtered': 27780194.697688326, 'avg_filtered': 86.12037764261325, 'rel_pow': 0.009866518140910446}\n",
      "Subject 27: {'sum_raw': 4092035494.7291136, 'avg_raw': 12685.571356430195, 'sum_filtered': 14840859.281180473, 'avg_filtered': 46.007611528456955, 'rel_pow': 0.0036267669965953987}\n",
      "Subject 28: {'sum_raw': 885562096.555069, 'avg_raw': 2745.299052481195, 'sum_filtered': 30069432.12106279, 'avg_filtered': 93.21715984878753, 'rel_pow': 0.03395519324735791}\n",
      "Subject 29: {'sum_raw': 2513170690.9531403, 'avg_raw': 7790.989636341244, 'sum_filtered': 12627584.769028286, 'avg_filtered': 39.14631919816317, 'rel_pow': 0.005024563120397991}\n",
      "Subject 30: {'sum_raw': 755902420.8007337, 'avg_raw': 2343.345777405289, 'sum_filtered': 23370568.382476725, 'avg_filtered': 72.45025446091974, 'rel_pow': 0.03091744084867474}\n",
      "Subject 31: {'sum_raw': 5705446326.744896, 'avg_raw': 17687.247970217362, 'sum_filtered': 18704049.459413085, 'avg_filtered': 57.98374778938503, 'rel_pow': 0.0032782798028851545}\n"
     ]
    }
   ],
   "source": [
    "# get all results\n",
    "all_results = []\n",
    "\n",
    "for i in range(len(df)):\n",
    "    # read in the data\n",
    "    data_df = mne.io.read_raw_edf(df['path'][i], preload=True, verbose=False)\n",
    "    data_df = data_df.to_data_frame()\n",
    "    \n",
    "    # get the results\n",
    "    results = get_psd_feature(\n",
    "        dataframe=data_df,\n",
    "        freq_type='alpha',\n",
    "    )\n",
    "    \n",
    "    # add to all results\n",
    "    all_results.append(results)\n",
    "    \n",
    "# print the results\n",
    "for i in range(len(all_results)):\n",
    "    print(f\"Subject {i}: {all_results[i]}\")"
   ]
  }
 ],
 "metadata": {
  "kernelspec": {
   "display_name": "EEG",
   "language": "python",
   "name": "python3"
  },
  "language_info": {
   "codemirror_mode": {
    "name": "ipython",
    "version": 3
   },
   "file_extension": ".py",
   "mimetype": "text/x-python",
   "name": "python",
   "nbconvert_exporter": "python",
   "pygments_lexer": "ipython3",
   "version": "3.8.16"
  },
  "orig_nbformat": 4
 },
 "nbformat": 4,
 "nbformat_minor": 2
}
