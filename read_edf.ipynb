{
 "cells": [
  {
   "cell_type": "code",
   "execution_count": 1,
   "metadata": {},
   "outputs": [],
   "source": [
    "import mne\n",
    "import numpy as np\n",
    "import pandas as pd\n",
    "import matplotlib.pyplot as plt"
   ]
  },
  {
   "cell_type": "code",
   "execution_count": 2,
   "metadata": {},
   "outputs": [
    {
     "name": "stdout",
     "output_type": "stream",
     "text": [
      "Extracting EDF parameters from c:\\Users\\SpaceLab\\Developer\\EEG_Stimuli_Relax_RSY\\Brown_EPOCX_184005_2023.05.04T15.07.37+08.00.edf...\n",
      "EDF file detected\n",
      "Setting channel info structure...\n",
      "Creating raw.info structure...\n",
      "Reading 0 ... 55807  =      0.000 ...   217.996 secs...\n"
     ]
    }
   ],
   "source": [
    "edf_path = 'Brown_EPOCX_184005_2023.05.04T15.07.37+08.00.edf'\n",
    "raw = mne.io.read_raw_edf(edf_path, preload=True)\n"
   ]
  },
  {
   "cell_type": "code",
   "execution_count": 4,
   "metadata": {},
   "outputs": [
    {
     "name": "stdout",
     "output_type": "stream",
     "text": [
      "       time  TIME_STAMP_s  TIME_STAMP_ms  OR_TIME_STAMP_s  OR_TIME_STAMP_ms   \n",
      "0  0.000000           0.0            0.0              0.0               0.0  \\\n",
      "1  0.003906           0.0            3.9              0.0               4.0   \n",
      "2  0.007812           0.0            7.8              0.0               8.0   \n",
      "3  0.011719           0.0           11.7              0.0              12.0   \n",
      "4  0.015625           0.0           15.6              0.0              16.0   \n",
      "\n",
      "   COUNTER  INTERPOLATED          AF3           F7           F3  ...  EQ_O1   \n",
      "0    118.0           0.0  4262.051282  4280.000000  4292.820513  ...    0.0  \\\n",
      "1    119.0           0.0  4258.461538  4278.461538  4287.179487  ...    0.0   \n",
      "2    120.0           0.0  4253.333333  4277.435897  4281.025641  ...    0.0   \n",
      "3    121.0           0.0  4249.743590  4277.948718  4277.435897  ...    0.0   \n",
      "4    122.0           0.0  4250.769231  4282.051282  4278.461538  ...    0.0   \n",
      "\n",
      "   EQ_O2  EQ_P8  EQ_T8  EQ_FC6  EQ_F4  EQ_F8  EQ_AF4  CQ_CMS  CQ_DRL  \n",
      "0    0.0    0.0    0.0     0.0    0.0    0.0     0.0     4.0     4.0  \n",
      "1    0.0    0.0    0.0     0.0    0.0    0.0     0.0     4.0     4.0  \n",
      "2    0.0    0.0    0.0     0.0    0.0    0.0     0.0     4.0     4.0  \n",
      "3    0.0    0.0    0.0     0.0    0.0    0.0     0.0     4.0     4.0  \n",
      "4    0.0    0.0    0.0     0.0    0.0    0.0     0.0     4.0     4.0  \n",
      "\n",
      "[5 rows x 61 columns]\n"
     ]
    }
   ],
   "source": [
    "df = raw.to_data_frame()\n",
    "print(df.head())"
   ]
  }
 ],
 "metadata": {
  "kernelspec": {
   "display_name": "EEG",
   "language": "python",
   "name": "python3"
  },
  "language_info": {
   "codemirror_mode": {
    "name": "ipython",
    "version": 3
   },
   "file_extension": ".py",
   "mimetype": "text/x-python",
   "name": "python",
   "nbconvert_exporter": "python",
   "pygments_lexer": "ipython3",
   "version": "3.8.16"
  },
  "orig_nbformat": 4
 },
 "nbformat": 4,
 "nbformat_minor": 2
}
