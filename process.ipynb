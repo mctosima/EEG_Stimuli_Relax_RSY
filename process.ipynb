{
 "cells": [
  {
   "attachments": {},
   "cell_type": "markdown",
   "metadata": {},
   "source": [
    "# Processing EEG for Stimuli Research\n",
    "\n",
    "## 1. Importing Necessary Libraries"
   ]
  },
  {
   "attachments": {},
   "cell_type": "markdown",
   "metadata": {},
   "source": [
    "Explanation:\n",
    "- `mne` is a library for EEG data processing\n",
    "- `numpy` is a library for numerical processing\n",
    "- `matplotlib` is a library for plotting\n",
    "- `pandas` is a library for data processing\n",
    "- `os` is a library for operating system related functions"
   ]
  },
  {
   "cell_type": "code",
   "execution_count": 1,
   "metadata": {},
   "outputs": [],
   "source": [
    "import mne\n",
    "import numpy as np\n",
    "import matplotlib.pyplot as plt\n",
    "import os\n",
    "import pandas as pd"
   ]
  },
  {
   "attachments": {},
   "cell_type": "markdown",
   "metadata": {},
   "source": [
    "## 2. Define Working Path\n",
    "\n",
    "Working path is the path where the data is stored. The data is stored in the same folder as this notebook."
   ]
  },
  {
   "cell_type": "code",
   "execution_count": 2,
   "metadata": {},
   "outputs": [],
   "source": [
    "data_path = r\"C:\\Users\\SpaceLab\\Developer\\EEG_Stimuli_Relax_RSY\\EEG_EDF_Files_RSY\""
   ]
  },
  {
   "attachments": {},
   "cell_type": "markdown",
   "metadata": {},
   "source": [
    "## 3. Get List of Subject\n",
    "\n",
    "**File Naming Convention**\n",
    "`[subject_id]_[noise_type]_[read/nap]_EPOCX_[the_rest_of_timestamp].edf`\n",
    "\n",
    "- `subject_id` is an integer starting from 1 as the subject number\n",
    "- `noise_type` is either `brown` or `pink` or `white` or `silent` (for no noise)\n",
    "- `read/nap` is showing the task that the subject is doing. `read` is for reading a book, `nap` is for taking a nap\n",
    "- `the_rest_of_timestamp` is the timestamp of the recording based on EPOCX format\n"
   ]
  },
  {
   "cell_type": "code",
   "execution_count": 3,
   "metadata": {},
   "outputs": [
    {
     "name": "stdout",
     "output_type": "stream",
     "text": [
      "File list: ['1_brown_nap.edf', '1_brown_read.edf', '1_pink_nap.edf', '1_pink_read.edf', '1_silent_nap.edf', '1_silent_read.edf', '1_white_nap.edf', '1_white_read.edf', '2_brown_nap.edf', '2_brown_read.edf', '2_pink_nap.edf', '2_pink_read.edf', '2_silent_nap.edf', '2_silent_read.edf', '2_white_nap.edf', '2_white_read.edf', '3_brown_nap.edf', '3_brown_read.edf', '3_pink_nap.edf', '3_pink_read.edf', '3_silent_nap.edf', '3_silent_read.edf', '3_white_nap.edf', '3_white_read.edf', '4_brown_nap.edf', '4_brown_read.edf', '4_pink_nap.edf', '4_pink_read.edf', '4_silent_nap.edf', '4_silent_read.edf', '4_white_nap.edf', '4_white_read.edf']\n"
     ]
    }
   ],
   "source": [
    "file_list = sorted(os.listdir(data_path))\n",
    "print(f\"File list: {file_list}\")"
   ]
  },
  {
   "attachments": {},
   "cell_type": "markdown",
   "metadata": {},
   "source": [
    "### 3.1. Create a Dataframe"
   ]
  },
  {
   "cell_type": "code",
   "execution_count": 4,
   "metadata": {},
   "outputs": [],
   "source": [
    "data = []\n",
    "\n",
    "for item in file_list:\n",
    "    # split by underscore\n",
    "    split_item = item.split('_')\n",
    "    \n",
    "    id_no = split_item[0]\n",
    "    noise_type = split_item[1]\n",
    "    task = split_item[2][:-4]\n",
    "    full_path = os.path.join(data_path, item)\n",
    "    \n",
    "    # add to dataframe\n",
    "    data.append({'subject': id_no, 'noise_type': noise_type, 'task': task, 'path': full_path})\n",
    "\n"
   ]
  },
  {
   "cell_type": "code",
   "execution_count": 5,
   "metadata": {},
   "outputs": [
    {
     "name": "stdout",
     "output_type": "stream",
     "text": [
      "  subject noise_type  task                                               path\n",
      "0       1      brown   nap  C:\\Users\\SpaceLab\\Developer\\EEG_Stimuli_Relax_...\n",
      "1       1      brown  read  C:\\Users\\SpaceLab\\Developer\\EEG_Stimuli_Relax_...\n",
      "2       1       pink   nap  C:\\Users\\SpaceLab\\Developer\\EEG_Stimuli_Relax_...\n",
      "3       1       pink  read  C:\\Users\\SpaceLab\\Developer\\EEG_Stimuli_Relax_...\n",
      "4       1     silent   nap  C:\\Users\\SpaceLab\\Developer\\EEG_Stimuli_Relax_...\n"
     ]
    }
   ],
   "source": [
    "df = pd.DataFrame(data)\n",
    "print(df.head())"
   ]
  },
  {
   "attachments": {},
   "cell_type": "markdown",
   "metadata": {},
   "source": [
    "## 4. Processing Single Files"
   ]
  },
  {
   "attachments": {},
   "cell_type": "markdown",
   "metadata": {},
   "source": [
    "#### 4.1. Read the EDF"
   ]
  },
  {
   "cell_type": "code",
   "execution_count": 6,
   "metadata": {},
   "outputs": [],
   "source": [
    "brown_nap_df = mne.io.read_raw_edf(df['path'][0], preload=True, verbose=False)\n",
    "brown_nap_df = brown_nap_df.to_data_frame()"
   ]
  },
  {
   "cell_type": "code",
   "execution_count": 7,
   "metadata": {},
   "outputs": [
    {
     "name": "stdout",
     "output_type": "stream",
     "text": [
      "Total samples: 55808\n"
     ]
    }
   ],
   "source": [
    "print(f\"Total samples: {len(brown_nap_df)}\")"
   ]
  },
  {
   "attachments": {},
   "cell_type": "markdown",
   "metadata": {},
   "source": [
    "#### 4.2. Get The Signal Only"
   ]
  },
  {
   "cell_type": "code",
   "execution_count": 8,
   "metadata": {},
   "outputs": [],
   "source": [
    "brown_nap_signals_df = brown_nap_df[['AF3', 'F7', 'F3', 'FC5', 'T7', 'P7', 'O1', 'O2', 'P8', 'T8', 'FC6', 'F4', 'F8', 'AF4']]"
   ]
  },
  {
   "attachments": {},
   "cell_type": "markdown",
   "metadata": {},
   "source": [
    "#### 4.3. Get only 3 minutes signals\n",
    "- Drop the first 30 seconds (7680 samples)\n",
    "- Keep the next 3 minutes (46080 samples)\n",
    "- Drop the rest\n"
   ]
  },
  {
   "cell_type": "code",
   "execution_count": 9,
   "metadata": {},
   "outputs": [],
   "source": [
    "# Drop the first 30 seconds\n",
    "brown_nap_signals_df = brown_nap_signals_df.iloc[7680:]\n",
    "\n",
    "# Keep the next 3 minutes samples\n",
    "brown_nap_signals_df = brown_nap_signals_df.iloc[:46080]"
   ]
  },
  {
   "cell_type": "code",
   "execution_count": 10,
   "metadata": {},
   "outputs": [
    {
     "name": "stdout",
     "output_type": "stream",
     "text": [
      "Total samples: 46080\n"
     ]
    }
   ],
   "source": [
    "print(f\"Total samples: {len(brown_nap_signals_df)}\")"
   ]
  },
  {
   "attachments": {},
   "cell_type": "markdown",
   "metadata": {},
   "source": [
    "#### 4.4 Create MNE Object"
   ]
  },
  {
   "cell_type": "code",
   "execution_count": 11,
   "metadata": {},
   "outputs": [],
   "source": [
    "brown_nap_signals_df_transposed = brown_nap_signals_df.T\n",
    "\n",
    "info = mne.create_info(\n",
    "    ch_names = brown_nap_signals_df_transposed.shape[0],\n",
    "    sfreq = 256,\n",
    "    ch_types = 'eeg',\n",
    "    verbose = False\n",
    ")\n",
    "\n",
    "mne_raw_object = mne.io.RawArray(\n",
    "    data = brown_nap_signals_df_transposed,\n",
    "    info = info,\n",
    "    verbose = False\n",
    ")"
   ]
  },
  {
   "attachments": {},
   "cell_type": "markdown",
   "metadata": {},
   "source": [
    "What's inside the `mne_raw_object`?"
   ]
  },
  {
   "cell_type": "code",
   "execution_count": 12,
   "metadata": {},
   "outputs": [
    {
     "name": "stdout",
     "output_type": "stream",
     "text": [
      "Type: <class 'numpy.ndarray'> | Shape: (14, 46080)\n",
      "Inside Raw.info['sfreq']: 256.0\n"
     ]
    }
   ],
   "source": [
    "inside_mne_raw_object = mne_raw_object.copy()\n",
    "print(f\"Type: {type(inside_mne_raw_object.get_data())} | Shape: {inside_mne_raw_object.get_data().shape}\")\n",
    "print(f\"Inside Raw.info['sfreq']: {inside_mne_raw_object.info['sfreq']}\")"
   ]
  },
  {
   "attachments": {},
   "cell_type": "markdown",
   "metadata": {},
   "source": [
    "#### 4.5 Calculate PSD"
   ]
  },
  {
   "cell_type": "code",
   "execution_count": 13,
   "metadata": {},
   "outputs": [],
   "source": [
    "data_for_processing = mne_raw_object.copy()"
   ]
  },
  {
   "cell_type": "code",
   "execution_count": 14,
   "metadata": {},
   "outputs": [],
   "source": [
    "max_time = mne_raw_object.times.max()\n",
    "\n",
    "# Define the frequency bands\n",
    "freq_bands = {'delta': (0.5, 4),\n",
    "              'theta': (4, 8),\n",
    "              'alpha': (8, 13),\n",
    "              'beta': (13, 30),\n",
    "              'gamma': (30, 50)}"
   ]
  },
  {
   "cell_type": "code",
   "execution_count": 15,
   "metadata": {},
   "outputs": [],
   "source": [
    "psd_total, freqs = mne.time_frequency.psd_array_multitaper(\n",
    "    x = data_for_processing.get_data(),\n",
    "    sfreq = 256.0,\n",
    "    verbose = False\n",
    ")"
   ]
  },
  {
   "attachments": {},
   "cell_type": "markdown",
   "metadata": {},
   "source": [
    "**Configure The Filter**"
   ]
  },
  {
   "cell_type": "code",
   "execution_count": 16,
   "metadata": {},
   "outputs": [],
   "source": [
    "data_for_processing.filter(freq_bands['theta'][0], freq_bands['theta'][1], fir_design='firwin', verbose=False)\n",
    "psd_filtered, freqs_filtered = mne.time_frequency.psd_array_multitaper(\n",
    "    data_for_processing.get_data(),\n",
    "    sfreq = 256.0,\n",
    "    verbose = False\n",
    ")"
   ]
  },
  {
   "attachments": {},
   "cell_type": "markdown",
   "metadata": {},
   "source": [
    "**Count Total Power**"
   ]
  },
  {
   "cell_type": "code",
   "execution_count": 17,
   "metadata": {},
   "outputs": [
    {
     "name": "stdout",
     "output_type": "stream",
     "text": [
      "Sum of power total: 361839889.210321 | Average power of filtered: 54.4529 | Relative power: 0.0485437901\n"
     ]
    }
   ],
   "source": [
    "sum_pow_total = np.sum(psd_total)\n",
    "avg_pow_total = np.mean(psd_total)\n",
    "avg_psd_filtered = np.mean(psd_filtered)\n",
    "sum_psd_filtered = np.sum(psd_filtered)\n",
    "rel_pow = np.sum(psd_filtered) / sum_pow_total\n",
    "\n",
    "print(f\"Sum of power total: {sum_pow_total:4f} | Average power of filtered: {avg_psd_filtered:.4f} | Relative power: {rel_pow:.10f}\")"
   ]
  },
  {
   "attachments": {},
   "cell_type": "markdown",
   "metadata": {},
   "source": [
    "**Plot PSD**"
   ]
  },
  {
   "cell_type": "code",
   "execution_count": 18,
   "metadata": {},
   "outputs": [
    {
     "data": {
      "image/png": "[encoded data removed]",
      "text/plain": [
       "<Figure size 1000x500 with 1 Axes>"
      ]
     },
     "metadata": {},
     "output_type": "display_data"
    }
   ],
   "source": [
    "xlimit = freq_bands['theta']\n",
    "xlimit = (xlimit[0]-2, xlimit[1]+2)\n",
    "plt.figure(figsize=(10, 5))\n",
    "plt.plot(freqs_filtered, psd_filtered.mean(0))\n",
    "plt.xlabel('Frequency (Hz)')\n",
    "plt.ylabel('Power Spectral Density')\n",
    "plt.title(f\"PSD Filtered\")\n",
    "plt.xlim(xlimit)\n",
    "plt.show()"
   ]
  }
 ],
 "metadata": {
  "kernelspec": {
   "display_name": "EEG",
   "language": "python",
   "name": "python3"
  },
  "language_info": {
   "codemirror_mode": {
    "name": "ipython",
    "version": 3
   },
   "file_extension": ".py",
   "mimetype": "text/x-python",
   "name": "python",
   "nbconvert_exporter": "python",
   "pygments_lexer": "ipython3",
   "version": "3.8.16"
  },
  "orig_nbformat": 4
 },
 "nbformat": 4,
 "nbformat_minor": 2
}
