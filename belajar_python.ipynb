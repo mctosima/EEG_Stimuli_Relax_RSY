{
 "cells": [
  {
   "cell_type": "code",
   "execution_count": 1,
   "metadata": {},
   "outputs": [],
   "source": [
    "import numpy as np\n",
    "import pandas as pd\n",
    "import matplotlib.pyplot as plt\n"
   ]
  },
  {
   "cell_type": "code",
   "execution_count": 2,
   "metadata": {},
   "outputs": [],
   "source": [
    "# create a dummy data of student's height and weight\n",
    "height = np.random.normal(170, 10, 250)\n",
    "weight = np.random.normal(60, 10, 250)\n"
   ]
  },
  {
   "cell_type": "code",
   "execution_count": 4,
   "metadata": {},
   "outputs": [
    {
     "name": "stdout",
     "output_type": "stream",
     "text": [
      "[175.63985682 148.22606112 163.42490794 171.02480211 171.9937651 ]\n",
      "[59.92368139 46.31451282 60.75662915 64.82415561 48.75804429]\n"
     ]
    }
   ],
   "source": [
    "# print the first 5 rows of the data\n",
    "print(height[:5])\n",
    "print(weight[:5])\n",
    "\n"
   ]
  },
  {
   "cell_type": "code",
   "execution_count": 6,
   "metadata": {},
   "outputs": [
    {
     "data": {
      "image/png": "[encoded data removed]",
      "text/plain": [
       "<Figure size 640x480 with 1 Axes>"
      ]
     },
     "metadata": {},
     "output_type": "display_data"
    }
   ],
   "source": [
    "# plot in bar chart\n",
    "plt.bar(height[:5], weight[:5])\n",
    "# create a title\n",
    "plt.title('Student Height and Weight')\n",
    "# create a label for x-axis\n",
    "plt.xlabel('Height')\n",
    "# create a label for y-axis\n",
    "plt.ylabel('Weight')\n",
    "# show the plot\n",
    "plt.show()\n"
   ]
  },
  {
   "attachments": {},
   "cell_type": "markdown",
   "metadata": {},
   "source": [
    "---"
   ]
  },
  {
   "cell_type": "code",
   "execution_count": 10,
   "metadata": {},
   "outputs": [
    {
     "name": "stdout",
     "output_type": "stream",
     "text": [
      "    Timestamp  OriginalTimestamp  EEG.Counter  EEG.Interpolated      EEG.AF3   \n",
      "0  1683092441         1683092441            0                 0  4264.102539  \\\n",
      "1  1683092441         1683092441            1                 0  4262.563965   \n",
      "2  1683092441         1683092441            2                 0  4258.846191   \n",
      "3  1683092441         1683092441            3                 0  4254.743652   \n",
      "4  1683092441         1683092441            4                 0  4252.820313   \n",
      "\n",
      "        EEG.F7       EEG.F3      EEG.FC5       EEG.T7       EEG.P7  ...   \n",
      "0  4284.230957  4289.487305  4273.974121  4251.282227  4266.666504  ...  \\\n",
      "1  4285.128418  4290.641113  4272.948730  4251.282227  4266.410156  ...   \n",
      "2  4278.205078  4287.179688  4266.794922  4248.974121  4263.077148  ...   \n",
      "3  4270.897461  4281.025879  4260.769043  4244.871582  4258.846191  ...   \n",
      "4  4270.897461  4275.769043  4260.512695  4240.000000  4255.897461  ...   \n",
      "\n",
      "   POW.F8.Theta  POW.F8.Alpha  POW.F8.BetaL  POW.F8.BetaH  POW.F8.Gamma   \n",
      "0           NaN           NaN           NaN           NaN           NaN  \\\n",
      "1           NaN           NaN           NaN           NaN           NaN   \n",
      "2           NaN           NaN           NaN           NaN           NaN   \n",
      "3           NaN           NaN           NaN           NaN           NaN   \n",
      "4           NaN           NaN           NaN           NaN           NaN   \n",
      "\n",
      "   POW.AF4.Theta  POW.AF4.Alpha  POW.AF4.BetaL  POW.AF4.BetaH  POW.AF4.Gamma  \n",
      "0            NaN            NaN            NaN            NaN            NaN  \n",
      "1            NaN            NaN            NaN            NaN            NaN  \n",
      "2            NaN            NaN            NaN            NaN            NaN  \n",
      "3            NaN            NaN            NaN            NaN            NaN  \n",
      "4            NaN            NaN            NaN            NaN            NaN  \n",
      "\n",
      "[5 rows x 169 columns]\n"
     ]
    }
   ],
   "source": [
    "silent_csv = 'Silent.csv'\n",
    "# read silent csv file. Skip first row.\n",
    "df = pd.read_csv(silent_csv, skiprows=1)\n",
    "\n",
    "# print the first 5 rows of the data\n",
    "print(df.head())\n"
   ]
  },
  {
   "attachments": {},
   "cell_type": "markdown",
   "metadata": {},
   "source": [
    "# Length\n",
    "\n",
    "this is how to get the length of a list."
   ]
  },
  {
   "cell_type": "code",
   "execution_count": 11,
   "metadata": {},
   "outputs": [
    {
     "name": "stdout",
     "output_type": "stream",
     "text": [
      "30720\n"
     ]
    }
   ],
   "source": [
    "# length of the data rows\n",
    "print(len(df))\n"
   ]
  }
 ],
 "metadata": {
  "kernelspec": {
   "display_name": "EEG",
   "language": "python",
   "name": "python3"
  },
  "language_info": {
   "codemirror_mode": {
    "name": "ipython",
    "version": 3
   },
   "file_extension": ".py",
   "mimetype": "text/x-python",
   "name": "python",
   "nbconvert_exporter": "python",
   "pygments_lexer": "ipython3",
   "version": "3.8.16"
  },
  "orig_nbformat": 4
 },
 "nbformat": 4,
 "nbformat_minor": 2
}
